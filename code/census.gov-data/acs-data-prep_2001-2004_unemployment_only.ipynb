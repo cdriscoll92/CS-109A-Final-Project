{
 "cells": [
  {
   "cell_type": "markdown",
   "metadata": {},
   "source": [
    "# CS109a FA18 Group 65 Final Project - Midterm Elections\n",
    "\n",
    "\n",
    "\n",
    "## Data Preparation - American Community Survey Data - Congressional Districts"
   ]
  },
  {
   "cell_type": "code",
   "execution_count": 50,
   "metadata": {},
   "outputs": [],
   "source": [
    "import pandas as pd\n",
    "import numpy as np\n",
    "import requests\n",
    "from IPython.core.display import HTML\n",
    "from IPython.display import display"
   ]
  },
  {
   "cell_type": "markdown",
   "metadata": {},
   "source": [
    "### 2000-2004 unemployment"
   ]
  },
  {
   "cell_type": "code",
   "execution_count": 51,
   "metadata": {},
   "outputs": [],
   "source": [
    "# define paths\n",
    "\n",
    "acs_data = \"data/acs-1-year_tables_2000-2004\"\n",
    "\n",
    "output_file = \"acs-congressional_2000-2004.csv\"\n",
    "output_dir = \"data/\"\n",
    "\n",
    "# variables_file = \"vars_2005-2017.csv\"\n",
    "# variables = pd.read_csv(acs_data + \"/\" + variables_file)\n"
   ]
  },
  {
   "cell_type": "code",
   "execution_count": 52,
   "metadata": {},
   "outputs": [],
   "source": [
    "def profile_filename(year):\n",
    "    return \"Profiles500{}.csv\".format(year)"
   ]
  },
  {
   "cell_type": "code",
   "execution_count": 53,
   "metadata": {},
   "outputs": [],
   "source": [
    "# %load \"acs-util.py\"\n",
    "def get_dist_id_2000(dist_name):\n",
    "    try:\n",
    "        abbr, dist_no = dist_name.split(\" Congressional District \")\n",
    "    except:\n",
    "        return \"NONE\"\n",
    "    if dist_no == \"(at Large)\":\n",
    "        dist_no = \"1\"\n",
    "    return \"{}_{}\".format(abbr, dist_no)\n",
    "\n",
    "def get_dist_id_2005(dist_name):\n",
    "    dist_info, state_name = dist_name.split(\", \")\n",
    "    abbr = get_state_abbr(state_name)\n",
    "    if abbr == 'NONE':\n",
    "        return \"NONE\"\n",
    "    try:\n",
    "        blah, dist_no = dist_info.split(\"(at Large\")\n",
    "        dist_no = \"1\"\n",
    "    except:\n",
    "        dist_no, blah = dist_info.split(\" (\")\n",
    "        blah, dist_no = dist_no.split(\"District \")\n",
    "    return \"{}_{}\".format(abbr, dist_no)\n",
    "\n",
    "def get_dist_id(dist_name, year=\"2018\"):\n",
    "    result = \"\"\n",
    "    if int(year) < 2005:\n",
    "        result = get_dist_id_2000(dist_name)\n",
    "    else:\n",
    "        result = get_dist_id_2005(dist_name)\n",
    "    return result\n",
    "\n",
    "def map_dist_id(dist_name_arr, year=\"2018\"):\n",
    "    if int(year) < 2005:\n",
    "        dist_func = lambda dist_name : get_dist_id_2000(dist_name)\n",
    "    else:\n",
    "        dist_func = lambda dist_name : get_dist_id_2005(dist_name)\n",
    "    result = list(map(dist_func, list(dist_name_arr)))\n",
    "    return np.array(result)\n",
    "\n",
    "def get_all_dist_ids():\n",
    "    id_column_ = \"GEO.id\"\n",
    "    location_column_ = \"GEO.display-label\"\n",
    "    annotation_row_ = \"Id\"\n",
    "    ids_source = pd.read_csv(table_filename(\"2016\", \"B02001\"))\n",
    "    ids_source = ids_source[ids_source[id_column_] != annotation_row_]\n",
    "    dist_names = ids_source[location_column_].unique()\n",
    "    dist_ids = map_dist_id(dist_names)\n",
    "    return dist_ids[dist_ids != \"NONE\"]"
   ]
  },
  {
   "cell_type": "code",
   "execution_count": 54,
   "metadata": {},
   "outputs": [
    {
     "data": {
      "text/plain": [
       "['AK_1', 'NONE', 'CA_26']"
      ]
     },
     "execution_count": 54,
     "metadata": {},
     "output_type": "execute_result"
    }
   ],
   "source": [
    "dists_ = (\"AK Congressional District (at Large)\", \"DC Delegate District (at Large)\", \"CA Congressional District 26\")\n",
    "[get_dist_id(dst, \"2000\") for dst in dists_]"
   ]
  },
  {
   "cell_type": "code",
   "execution_count": 55,
   "metadata": {},
   "outputs": [],
   "source": [
    "years = [str(y) for y in range(2000,2005)]\n",
    "\n",
    "location_column_ = \"Geographic Name\"\n",
    "table_number_col_ = \"Table Number\"\n",
    "\n",
    "def order_col(year):\n",
    "    if year in [\"2000\", \"2001\"]:\n",
    "        return \"Order\"\n",
    "    else:\n",
    "        return \"Table Order\"\n",
    "    \n",
    "def table_order_no(year):\n",
    "    if int(year) < 2002:\n",
    "        return (3, 6)\n",
    "    elif int(year) < 2004:\n",
    "        return (\"DP003\", 8)\n",
    "    else:\n",
    "        return (\"DP003\", 11)"
   ]
  },
  {
   "cell_type": "code",
   "execution_count": 56,
   "metadata": {},
   "outputs": [],
   "source": [
    "def unemployment_for_year(year):\n",
    "    data_ = pd.read_csv(acs_data + \"/\" + profile_filename(year))\n",
    "    unemp_table_no, unemp_order_no = table_order_no(year)\n",
    "    data_col = \"Estimate\"\n",
    "    df_data_ = data_[data_[table_number_col_] == unemp_table_no]\n",
    "    df_data_ = df_data_[df_data_[order_col(year)] == unemp_order_no]\n",
    "    print(\"{}\".format(year))\n",
    "    df_data_[\"unemployment\"] = df_data_[data_col]\n",
    "    df_data_[\"dist_id\"] = map_dist_id(df_data_[location_column_].values, \"2000\")\n",
    "    df_data_[\"dist_name\"] = df_data_[location_column_]\n",
    "    df_data_[\"year\"] = year\n",
    "    df_data_ = df_data_[df_data_[\"dist_id\"] != \"NONE\"]\n",
    "    cols_to_keep = [\"dist_id\", \"dist_name\", \"year\", \"unemployment\"]\n",
    "    return df_data_[cols_to_keep]"
   ]
  },
  {
   "cell_type": "code",
   "execution_count": 57,
   "metadata": {},
   "outputs": [
    {
     "name": "stdout",
     "output_type": "stream",
     "text": [
      "2000\n",
      "<class 'NoneType'> <class 'pandas.core.frame.DataFrame'>\n",
      "2001\n",
      "<class 'pandas.core.frame.DataFrame'> <class 'pandas.core.frame.DataFrame'>\n",
      "2002\n",
      "<class 'pandas.core.frame.DataFrame'> <class 'pandas.core.frame.DataFrame'>\n",
      "2003\n",
      "<class 'pandas.core.frame.DataFrame'> <class 'pandas.core.frame.DataFrame'>\n",
      "2004\n",
      "<class 'pandas.core.frame.DataFrame'> <class 'pandas.core.frame.DataFrame'>\n"
     ]
    },
    {
     "data": {
      "text/html": [
       "<div>\n",
       "<style scoped>\n",
       "    .dataframe tbody tr th:only-of-type {\n",
       "        vertical-align: middle;\n",
       "    }\n",
       "\n",
       "    .dataframe tbody tr th {\n",
       "        vertical-align: top;\n",
       "    }\n",
       "\n",
       "    .dataframe thead th {\n",
       "        text-align: right;\n",
       "    }\n",
       "</style>\n",
       "<table border=\"1\" class=\"dataframe\">\n",
       "  <thead>\n",
       "    <tr style=\"text-align: right;\">\n",
       "      <th></th>\n",
       "      <th>dist_id</th>\n",
       "      <th>dist_name</th>\n",
       "      <th>year</th>\n",
       "      <th>unemployment</th>\n",
       "    </tr>\n",
       "  </thead>\n",
       "  <tbody>\n",
       "    <tr>\n",
       "      <th>250</th>\n",
       "      <td>AK_1</td>\n",
       "      <td>AK Congressional District (at Large)</td>\n",
       "      <td>2000</td>\n",
       "      <td>7.8</td>\n",
       "    </tr>\n",
       "    <tr>\n",
       "      <th>745</th>\n",
       "      <td>AZ_1</td>\n",
       "      <td>AZ Congressional District 1</td>\n",
       "      <td>2000</td>\n",
       "      <td>5.2</td>\n",
       "    </tr>\n",
       "    <tr>\n",
       "      <th>1240</th>\n",
       "      <td>AZ_4</td>\n",
       "      <td>AZ Congressional District 4</td>\n",
       "      <td>2000</td>\n",
       "      <td>5.0</td>\n",
       "    </tr>\n",
       "    <tr>\n",
       "      <th>1735</th>\n",
       "      <td>CA_5</td>\n",
       "      <td>CA Congressional District 5</td>\n",
       "      <td>2000</td>\n",
       "      <td>7.4</td>\n",
       "    </tr>\n",
       "    <tr>\n",
       "      <th>2230</th>\n",
       "      <td>CA_6</td>\n",
       "      <td>CA Congressional District 6</td>\n",
       "      <td>2000</td>\n",
       "      <td>3.3</td>\n",
       "    </tr>\n",
       "  </tbody>\n",
       "</table>\n",
       "</div>"
      ],
      "text/plain": [
       "     dist_id                             dist_name  year unemployment\n",
       "250     AK_1  AK Congressional District (at Large)  2000          7.8\n",
       "745     AZ_1           AZ Congressional District 1  2000          5.2\n",
       "1240    AZ_4           AZ Congressional District 4  2000          5.0\n",
       "1735    CA_5           CA Congressional District 5  2000          7.4\n",
       "2230    CA_6           CA Congressional District 6  2000          3.3"
      ]
     },
     "metadata": {},
     "output_type": "display_data"
    }
   ],
   "source": [
    "df_all = None\n",
    "for yyyy in years:\n",
    "    df_year_ = unemployment_for_year(yyyy)\n",
    "    print(type(df_all), type(df_year_))\n",
    "    if df_all is None:\n",
    "        df_all = df_year_\n",
    "    else:\n",
    "        df_all = df_all.append(df_year_)\n",
    "\n",
    "display(df_all.head())\n",
    "df_all.to_csv(output_dir + \"congressional_district_unemployment_2000-2004.csv\", index=False)"
   ]
  }
 ],
 "metadata": {
  "kernelspec": {
   "display_name": "Python 3",
   "language": "python",
   "name": "python3"
  },
  "language_info": {
   "codemirror_mode": {
    "name": "ipython",
    "version": 3
   },
   "file_extension": ".py",
   "mimetype": "text/x-python",
   "name": "python",
   "nbconvert_exporter": "python",
   "pygments_lexer": "ipython3",
   "version": "3.6.5"
  }
 },
 "nbformat": 4,
 "nbformat_minor": 2
}
