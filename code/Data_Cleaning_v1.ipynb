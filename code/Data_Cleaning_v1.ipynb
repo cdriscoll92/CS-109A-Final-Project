{
 "cells": [
  {
   "cell_type": "code",
   "execution_count": 583,
   "metadata": {},
   "outputs": [],
   "source": [
    "import pandas as pd\n",
    "import numpy as np\n",
    "import matplotlib.pyplot as plt\n",
    "import seaborn as snsplt\n",
    "from collections import Counter\n",
    "import os.path"
   ]
  },
  {
   "cell_type": "code",
   "execution_count": 111,
   "metadata": {},
   "outputs": [
    {
     "data": {
      "text/plain": [
       "'/Users/poojatyagi/Dropbox (MIT)/CS109_project_data'"
      ]
     },
     "execution_count": 111,
     "metadata": {},
     "output_type": "execute_result"
    }
   ],
   "source": [
    "os.getcwd()"
   ]
  },
  {
   "cell_type": "code",
   "execution_count": 365,
   "metadata": {},
   "outputs": [
    {
     "data": {
      "text/plain": [
       "District 01 Estimate    12252\n",
       "District 02 Estimate      NaN\n",
       "District 03 Estimate    14404\n",
       "District 04 Estimate    11579\n",
       "District 05 Estimate    36692\n",
       "District 06 Estimate    41386\n",
       "District 07 Estimate    21843\n",
       "District 08 Estimate    32293\n",
       "District 09 Estimate    38442\n",
       "Name: 24, dtype: object"
      ]
     },
     "execution_count": 365,
     "metadata": {},
     "output_type": "execute_result"
    }
   ],
   "source": [
    "f='/Users/poojatyagi/Dropbox (MIT)/CS109_project_data/Arizona_District_all.csv'\n",
    "df=pd.DataFrame(pd.read_csv(f))\n",
    "df.iloc[24,3:len(df):2]"
   ]
  },
  {
   "cell_type": "code",
   "execution_count": 780,
   "metadata": {},
   "outputs": [],
   "source": [
    "#index of data in CSV\n",
    "medage_csv=16\n",
    "unemprate_csv=96\n",
    "medhhincome_csv=196\n",
    "bachdeg_csv=240\n",
    "totpop_csv = 19\n",
    "black_csv = 22\n",
    "asian_csv = 24\n",
    "hispanic_csv = 29"
   ]
  },
  {
   "cell_type": "code",
   "execution_count": 843,
   "metadata": {
    "scrolled": false
   },
   "outputs": [],
   "source": [
    "medianage=[]\n",
    "unemprate=[]\n",
    "medianhhincome=[]\n",
    "bachdegree=[]\n",
    "blackpop=[]\n",
    "asianpop=[]\n",
    "hispanicpop=[]\n",
    "totalpop=[]\n",
    "filename=[]\n",
    "num_districts=[]\n",
    "statename=[]\n",
    "\n",
    "for f in os.listdir('/Users/poojatyagi/Dropbox (MIT)/CS109_project_data/'):\n",
    "    if f.endswith('.csv'):\n",
    "        df=pd.DataFrame(pd.read_csv(f))\n",
    "        a1=np.transpose(df.iloc[medage_csv,3:len(df):2]) #Median age data from csv\n",
    "        a2=np.transpose(df.iloc[unemprate_csv,3:len(df):2])  #Unemployment rate data from csv\n",
    "        a3=np.transpose(df.iloc[medhhincome_csv,3:len(df):2])  #Median household income data from csv\n",
    "        a4=np.transpose(df.iloc[bachdeg_csv,3:len(df):2])  # bachelors degree or higher (percent) data from csv\n",
    "        a5=np.transpose(df.iloc[black_csv,3:len(df):2]) #Black population\n",
    "        a6=np.transpose(df.iloc[asian_csv,3:len(df):2]) #Asian population\n",
    "        a7=np.transpose(df.iloc[hispanic_csv,3:len(df):2]) #Hispanic population\n",
    "        totpop=np.transpose(df.iloc[totpop_csv,3:len(df):2]) #Total population\n",
    "        \n",
    "        #Index should be in the form statename_district#\n",
    "        sname=f.partition('_District')[0].replace(\"_\",\" \")\n",
    "        a1.index=[sname+'_'+a1.index[i].split()[1] for i in range(len(a1))]\n",
    "        a2.index=[sname+'_'+a2.index[i].split()[1] for i in range(len(a2))]\n",
    "        a3.index=[sname+'_'+a3.index[i].split()[1] for i in range(len(a3))]\n",
    "        a4.index=[sname+'_'+a4.index[i].split()[1] for i in range(len(a4))]\n",
    "        a5.index=[sname+'_'+a5.index[i].split()[1] for i in range(len(a5))]\n",
    "        a6.index=[sname+'_'+a6.index[i].split()[1] for i in range(len(a6))]\n",
    "        a7.index=[sname+'_'+a7.index[i].split()[1] for i in range(len(a7))]\n",
    "        totpop.index=[sname+'_'+totpop.index[i].split()[1] for i in range(len(totpop))]\n",
    "        \n",
    "        #Create a list of district level data\n",
    "        medianage.append(a1)\n",
    "        unemprate.append(a2)\n",
    "        medianhhincome.append(a3)\n",
    "        bachdegree.append(a4)\n",
    "        blackpop.append(a5)\n",
    "        asianpop.append(a6)\n",
    "        hispanicpop.append(a7)\n",
    "        totalpop.append(totpop)  \n",
    "        filename.append(f)\n",
    "        num_districts.append(len(a1))\n",
    "        statename.append(sname)"
   ]
  },
  {
   "cell_type": "code",
   "execution_count": 844,
   "metadata": {},
   "outputs": [],
   "source": [
    "assert len(unemprate)==len(medianage) == len(medianhhincome) == len(bachdegree)"
   ]
  },
  {
   "cell_type": "code",
   "execution_count": 845,
   "metadata": {},
   "outputs": [],
   "source": [
    "med_age_df=pd.DataFrame(medianage[0])\n",
    "unemp_rate_df=pd.DataFrame(unemprate[0])\n",
    "med_hh_income_df=pd.DataFrame(medianhhincome[0])\n",
    "bach_degree_df=pd.DataFrame(bachdegree[0])\n",
    "blackpop_df= pd.DataFrame(blackpop[0])\n",
    "asianpop_df= pd.DataFrame(asianpop[0])\n",
    "hispanicpop_df= pd.DataFrame(hispanicpop[0])\n",
    "totpop_df= pd.DataFrame(totalpop[0])\n",
    "                        \n",
    "for i in range(1,len(medianage)):\n",
    "    med_age_df=pd.concat([med_age_df, pd.DataFrame(medianage[i])],axis=0)\n",
    "    unemp_rate_df=pd.concat([unemp_rate_df, pd.DataFrame(unemprate[i])],axis=0)\n",
    "    med_hh_income_df=pd.concat([med_hh_income_df, pd.DataFrame(medianhhincome[i])],axis=0)\n",
    "    bach_degree_df=pd.concat([bach_degree_df, pd.DataFrame(bachdegree[i])],axis=0)\n",
    "    blackpop_df=pd.concat([blackpop_df, pd.DataFrame(blackpop[i])],axis=0)\n",
    "    asianpop_df=pd.concat([asianpop_df, pd.DataFrame(asianpop[i])],axis=0)\n",
    "    hispanicpop_df=pd.concat([hispanicpop_df, pd.DataFrame(hispanicpop[i])],axis=0)\n",
    "    totpop_df=pd.concat([totpop_df, pd.DataFrame(totalpop[i])],axis=0)\n",
    "    "
   ]
  },
  {
   "cell_type": "code",
   "execution_count": 846,
   "metadata": {},
   "outputs": [
    {
     "name": "stdout",
     "output_type": "stream",
     "text": [
      "Total number of districts is: 435\n"
     ]
    }
   ],
   "source": [
    "print(\"Total number of districts is: {}\".format(np.sum(num_districts)))"
   ]
  },
  {
   "cell_type": "code",
   "execution_count": 847,
   "metadata": {},
   "outputs": [],
   "source": [
    "new_state_list=[]\n",
    "\n",
    "for i in range(len(statename)):\n",
    "    new_state_list.append([str(statename[i])]*len(medianage[i]))\n",
    "\n",
    "new_state_list_df=pd.DataFrame(new_state_list[0])\n",
    "\n",
    "for i in range(1,len(new_state_list)):\n",
    "    new_state_list_df=pd.concat([new_state_list_df, pd.DataFrame(new_state_list[i])],axis=0)"
   ]
  },
  {
   "cell_type": "code",
   "execution_count": 848,
   "metadata": {},
   "outputs": [],
   "source": [
    "df_list=[unemp_rate_df,med_hh_income_df,bach_degree_df, blackpop_df,asianpop_df,hispanicpop_df,totpop_df]\n",
    "df_new= med_age_df\n",
    "for i in df_list:\n",
    "    df_new=pd.merge(df_new,i, how='left', left_index=True, right_index=True)\n",
    "\n",
    "df_new.columns=['Median_Age','Unemployment_Rate','Median_HH_Income','Percent_BachDegree',\n",
    "'Black','Asian','Hispanic','TotalPop']"
   ]
  },
  {
   "cell_type": "code",
   "execution_count": 851,
   "metadata": {},
   "outputs": [
    {
     "data": {
      "text/plain": [
       "(435, 8)"
      ]
     },
     "execution_count": 851,
     "metadata": {},
     "output_type": "execute_result"
    }
   ],
   "source": [
    "df_new.shape"
   ]
  },
  {
   "cell_type": "code",
   "execution_count": 858,
   "metadata": {
    "scrolled": true
   },
   "outputs": [],
   "source": [
    "df_new=df_new.astype(float)"
   ]
  },
  {
   "cell_type": "code",
   "execution_count": 859,
   "metadata": {},
   "outputs": [],
   "source": [
    "df_data=df_new.copy()\n",
    "df_data=df_data.astype(float)"
   ]
  },
  {
   "cell_type": "code",
   "execution_count": 860,
   "metadata": {},
   "outputs": [],
   "source": [
    "df_data['Black']=df_new['Black']/df_new['TotalPop']*100\n",
    "df_data['Asian']=df_new['Asian']/df_new['TotalPop']*100\n",
    "df_data['Hispanic']=df_new['Hispanic']/df_new['TotalPop']*100\n",
    "df_data=df_data.drop(['TotalPop'], axis=1)"
   ]
  },
  {
   "cell_type": "code",
   "execution_count": 861,
   "metadata": {},
   "outputs": [],
   "source": [
    "df_data['Label']=df_data.index\n",
    "df_data=df_data.reset_index(drop=True)"
   ]
  },
  {
   "cell_type": "code",
   "execution_count": 863,
   "metadata": {},
   "outputs": [],
   "source": [
    "new_state_list_df=new_state_list_df.reset_index(drop=True)\n",
    "new_state_list_df.columns = ['StateName']\n",
    "df_data=pd.concat([df_data,new_state_list_df],axis=1)"
   ]
  },
  {
   "cell_type": "code",
   "execution_count": 795,
   "metadata": {},
   "outputs": [],
   "source": [
    "# print(\"# of districts \\t State\")\n",
    "# print(\"----------------|-----------\")\n",
    "# for i in range(len(num_districts)):\n",
    "#     print(num_districts[i], \"\\t\\t|\", statename[i])"
   ]
  },
  {
   "cell_type": "code",
   "execution_count": 698,
   "metadata": {},
   "outputs": [],
   "source": [
    "state_abbs = pd.read_csv(\"/Users/poojatyagi/Dropbox (MIT)/CS109_project_data/Usefuldata/state_abbreviations_correspondence_table.csv\"\n",
    "                         , sep = \"\\t\")"
   ]
  },
  {
   "cell_type": "code",
   "execution_count": 864,
   "metadata": {},
   "outputs": [],
   "source": [
    "StateAbb=[None] * len(df_data)\n",
    "for j in range(len(df_data)):\n",
    "    for i in range(len(state_abbs)):\n",
    "        if (df_data['StateName'][j]==  state_abbs.iloc[i,0]):\n",
    "            StateAbb[j]=state_abbs.iloc[i,1]\n",
    "\n",
    "df_data['StateAbb'] = StateAbb\n",
    "df_data=df_data.drop(['Label'], axis=1)"
   ]
  },
  {
   "cell_type": "code",
   "execution_count": 873,
   "metadata": {},
   "outputs": [
    {
     "data": {
      "text/html": [
       "<div>\n",
       "<style scoped>\n",
       "    .dataframe tbody tr th:only-of-type {\n",
       "        vertical-align: middle;\n",
       "    }\n",
       "\n",
       "    .dataframe tbody tr th {\n",
       "        vertical-align: top;\n",
       "    }\n",
       "\n",
       "    .dataframe thead th {\n",
       "        text-align: right;\n",
       "    }\n",
       "</style>\n",
       "<table border=\"1\" class=\"dataframe\">\n",
       "  <thead>\n",
       "    <tr style=\"text-align: right;\">\n",
       "      <th></th>\n",
       "      <th>Median_Age</th>\n",
       "      <th>Unemployment_Rate</th>\n",
       "      <th>Median_HH_Income</th>\n",
       "      <th>Percent_BachDegree</th>\n",
       "      <th>Black</th>\n",
       "      <th>Asian</th>\n",
       "      <th>Hispanic</th>\n",
       "      <th>StateName</th>\n",
       "      <th>StateAbb</th>\n",
       "    </tr>\n",
       "  </thead>\n",
       "  <tbody>\n",
       "    <tr>\n",
       "      <th>0</th>\n",
       "      <td>40.0</td>\n",
       "      <td>5.8</td>\n",
       "      <td>9430.0</td>\n",
       "      <td>25.0</td>\n",
       "      <td>27.866024</td>\n",
       "      <td>1.502222</td>\n",
       "      <td>3.080417</td>\n",
       "      <td>Alabama</td>\n",
       "      <td>AL</td>\n",
       "    </tr>\n",
       "    <tr>\n",
       "      <th>1</th>\n",
       "      <td>38.5</td>\n",
       "      <td>6.2</td>\n",
       "      <td>7824.0</td>\n",
       "      <td>23.1</td>\n",
       "      <td>30.735289</td>\n",
       "      <td>1.140735</td>\n",
       "      <td>3.629841</td>\n",
       "      <td>Alabama</td>\n",
       "      <td>AL</td>\n",
       "    </tr>\n",
       "    <tr>\n",
       "      <th>2</th>\n",
       "      <td>38.1</td>\n",
       "      <td>5.3</td>\n",
       "      <td>9757.0</td>\n",
       "      <td>21.7</td>\n",
       "      <td>26.344710</td>\n",
       "      <td>1.650556</td>\n",
       "      <td>2.880274</td>\n",
       "      <td>Alabama</td>\n",
       "      <td>AL</td>\n",
       "    </tr>\n",
       "    <tr>\n",
       "      <th>3</th>\n",
       "      <td>40.7</td>\n",
       "      <td>6.0</td>\n",
       "      <td>7358.0</td>\n",
       "      <td>17.9</td>\n",
       "      <td>7.173333</td>\n",
       "      <td>0.563487</td>\n",
       "      <td>6.704806</td>\n",
       "      <td>Alabama</td>\n",
       "      <td>AL</td>\n",
       "    </tr>\n",
       "    <tr>\n",
       "      <th>4</th>\n",
       "      <td>39.5</td>\n",
       "      <td>4.7</td>\n",
       "      <td>14764.0</td>\n",
       "      <td>31.9</td>\n",
       "      <td>17.981308</td>\n",
       "      <td>1.807815</td>\n",
       "      <td>5.196789</td>\n",
       "      <td>Alabama</td>\n",
       "      <td>AL</td>\n",
       "    </tr>\n",
       "  </tbody>\n",
       "</table>\n",
       "</div>"
      ],
      "text/plain": [
       "   Median_Age  Unemployment_Rate  Median_HH_Income  Percent_BachDegree  \\\n",
       "0        40.0                5.8            9430.0                25.0   \n",
       "1        38.5                6.2            7824.0                23.1   \n",
       "2        38.1                5.3            9757.0                21.7   \n",
       "3        40.7                6.0            7358.0                17.9   \n",
       "4        39.5                4.7           14764.0                31.9   \n",
       "\n",
       "       Black     Asian  Hispanic StateName StateAbb  \n",
       "0  27.866024  1.502222  3.080417   Alabama       AL  \n",
       "1  30.735289  1.140735  3.629841   Alabama       AL  \n",
       "2  26.344710  1.650556  2.880274   Alabama       AL  \n",
       "3   7.173333  0.563487  6.704806   Alabama       AL  \n",
       "4  17.981308  1.807815  5.196789   Alabama       AL  "
      ]
     },
     "execution_count": 873,
     "metadata": {},
     "output_type": "execute_result"
    }
   ],
   "source": [
    "df_data.head()"
   ]
  },
  {
   "cell_type": "code",
   "execution_count": 879,
   "metadata": {},
   "outputs": [
    {
     "data": {
      "text/html": [
       "<div>\n",
       "<style scoped>\n",
       "    .dataframe tbody tr th:only-of-type {\n",
       "        vertical-align: middle;\n",
       "    }\n",
       "\n",
       "    .dataframe tbody tr th {\n",
       "        vertical-align: top;\n",
       "    }\n",
       "\n",
       "    .dataframe thead th {\n",
       "        text-align: right;\n",
       "    }\n",
       "</style>\n",
       "<table border=\"1\" class=\"dataframe\">\n",
       "  <thead>\n",
       "    <tr style=\"text-align: right;\">\n",
       "      <th></th>\n",
       "      <th>Median_Age</th>\n",
       "      <th>Unemployment_Rate</th>\n",
       "      <th>Median_HH_Income</th>\n",
       "      <th>Percent_BachDegree</th>\n",
       "      <th>Black</th>\n",
       "      <th>Asian</th>\n",
       "      <th>Hispanic</th>\n",
       "    </tr>\n",
       "    <tr>\n",
       "      <th>StateAbb</th>\n",
       "      <th></th>\n",
       "      <th></th>\n",
       "      <th></th>\n",
       "      <th></th>\n",
       "      <th></th>\n",
       "      <th></th>\n",
       "      <th></th>\n",
       "    </tr>\n",
       "  </thead>\n",
       "  <tbody>\n",
       "    <tr>\n",
       "      <th>AK</th>\n",
       "      <td>34.500000</td>\n",
       "      <td>7.600000</td>\n",
       "      <td>21169.000000</td>\n",
       "      <td>28.800000</td>\n",
       "      <td>2.988260</td>\n",
       "      <td>6.675498</td>\n",
       "      <td>6.990045</td>\n",
       "    </tr>\n",
       "    <tr>\n",
       "      <th>AL</th>\n",
       "      <td>38.885714</td>\n",
       "      <td>5.914286</td>\n",
       "      <td>10239.285714</td>\n",
       "      <td>25.414286</td>\n",
       "      <td>27.021497</td>\n",
       "      <td>1.363950</td>\n",
       "      <td>4.143068</td>\n",
       "    </tr>\n",
       "    <tr>\n",
       "      <th>AR</th>\n",
       "      <td>38.350000</td>\n",
       "      <td>5.675000</td>\n",
       "      <td>11410.500000</td>\n",
       "      <td>23.225000</td>\n",
       "      <td>15.524257</td>\n",
       "      <td>1.544734</td>\n",
       "      <td>7.263079</td>\n",
       "    </tr>\n",
       "    <tr>\n",
       "      <th>AZ</th>\n",
       "      <td>38.012500</td>\n",
       "      <td>5.787500</td>\n",
       "      <td>15029.500000</td>\n",
       "      <td>28.250000</td>\n",
       "      <td>4.379168</td>\n",
       "      <td>3.310451</td>\n",
       "      <td>31.477738</td>\n",
       "    </tr>\n",
       "    <tr>\n",
       "      <th>CA</th>\n",
       "      <td>36.747170</td>\n",
       "      <td>6.032075</td>\n",
       "      <td>20700.641509</td>\n",
       "      <td>32.811321</td>\n",
       "      <td>5.739184</td>\n",
       "      <td>14.488338</td>\n",
       "      <td>39.266800</td>\n",
       "    </tr>\n",
       "    <tr>\n",
       "      <th>CO</th>\n",
       "      <td>36.985714</td>\n",
       "      <td>4.285714</td>\n",
       "      <td>23352.571429</td>\n",
       "      <td>41.014286</td>\n",
       "      <td>4.038361</td>\n",
       "      <td>3.168310</td>\n",
       "      <td>21.520283</td>\n",
       "    </tr>\n",
       "    <tr>\n",
       "      <th>CT</th>\n",
       "      <td>41.000000</td>\n",
       "      <td>6.080000</td>\n",
       "      <td>23639.200000</td>\n",
       "      <td>38.680000</td>\n",
       "      <td>10.590873</td>\n",
       "      <td>4.559303</td>\n",
       "      <td>16.080327</td>\n",
       "    </tr>\n",
       "    <tr>\n",
       "      <th>DE</th>\n",
       "      <td>40.100000</td>\n",
       "      <td>5.300000</td>\n",
       "      <td>25921.000000</td>\n",
       "      <td>31.500000</td>\n",
       "      <td>21.867915</td>\n",
       "      <td>4.047034</td>\n",
       "      <td>9.308283</td>\n",
       "    </tr>\n",
       "    <tr>\n",
       "      <th>FL</th>\n",
       "      <td>42.540741</td>\n",
       "      <td>5.533333</td>\n",
       "      <td>13616.000000</td>\n",
       "      <td>29.588889</td>\n",
       "      <td>16.242322</td>\n",
       "      <td>2.797026</td>\n",
       "      <td>25.396091</td>\n",
       "    </tr>\n",
       "    <tr>\n",
       "      <th>GA</th>\n",
       "      <td>36.821429</td>\n",
       "      <td>5.857143</td>\n",
       "      <td>14620.857143</td>\n",
       "      <td>30.471429</td>\n",
       "      <td>31.607571</td>\n",
       "      <td>3.827477</td>\n",
       "      <td>9.491612</td>\n",
       "    </tr>\n",
       "  </tbody>\n",
       "</table>\n",
       "</div>"
      ],
      "text/plain": [
       "          Median_Age  Unemployment_Rate  Median_HH_Income  Percent_BachDegree  \\\n",
       "StateAbb                                                                        \n",
       "AK         34.500000           7.600000      21169.000000           28.800000   \n",
       "AL         38.885714           5.914286      10239.285714           25.414286   \n",
       "AR         38.350000           5.675000      11410.500000           23.225000   \n",
       "AZ         38.012500           5.787500      15029.500000           28.250000   \n",
       "CA         36.747170           6.032075      20700.641509           32.811321   \n",
       "CO         36.985714           4.285714      23352.571429           41.014286   \n",
       "CT         41.000000           6.080000      23639.200000           38.680000   \n",
       "DE         40.100000           5.300000      25921.000000           31.500000   \n",
       "FL         42.540741           5.533333      13616.000000           29.588889   \n",
       "GA         36.821429           5.857143      14620.857143           30.471429   \n",
       "\n",
       "              Black      Asian   Hispanic  \n",
       "StateAbb                                   \n",
       "AK         2.988260   6.675498   6.990045  \n",
       "AL        27.021497   1.363950   4.143068  \n",
       "AR        15.524257   1.544734   7.263079  \n",
       "AZ         4.379168   3.310451  31.477738  \n",
       "CA         5.739184  14.488338  39.266800  \n",
       "CO         4.038361   3.168310  21.520283  \n",
       "CT        10.590873   4.559303  16.080327  \n",
       "DE        21.867915   4.047034   9.308283  \n",
       "FL        16.242322   2.797026  25.396091  \n",
       "GA        31.607571   3.827477   9.491612  "
      ]
     },
     "execution_count": 879,
     "metadata": {},
     "output_type": "execute_result"
    }
   ],
   "source": [
    "df_grouped=df_data.groupby('StateAbb').mean()"
   ]
  }
 ],
 "metadata": {
  "kernelspec": {
   "display_name": "Python 3",
   "language": "python",
   "name": "python3"
  },
  "language_info": {
   "codemirror_mode": {
    "name": "ipython",
    "version": 3
   },
   "file_extension": ".py",
   "mimetype": "text/x-python",
   "name": "python",
   "nbconvert_exporter": "python",
   "pygments_lexer": "ipython3",
   "version": "3.6.5"
  }
 },
 "nbformat": 4,
 "nbformat_minor": 2
}
