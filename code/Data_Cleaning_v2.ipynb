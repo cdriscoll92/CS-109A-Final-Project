{
 "cells": [
  {
   "cell_type": "code",
   "execution_count": 925,
   "metadata": {},
   "outputs": [],
   "source": [
    "import pandas as pd\n",
    "import numpy as np\n",
    "\n",
    "%matplotlib inline\n",
    "import matplotlib.pyplot as plt\n",
    "import seaborn as snsplt\n",
    "os.environ['PROJ_LIB'] = '/anaconda3/pkgs/proj4/share/proj'\n",
    "from mpl_toolkits.basemap import Basemap\n",
    "\n",
    "import matplotlib.cm\n",
    "from matplotlib.patches import Polygon\n",
    "from matplotlib.collections import PatchCollection\n",
    "from matplotlib.colors import Normalize\n",
    "\n",
    "from collections import Counter\n",
    "import os.path"
   ]
  },
  {
   "cell_type": "code",
   "execution_count": 111,
   "metadata": {},
   "outputs": [
    {
     "data": {
      "text/plain": [
       "'/Users/poojatyagi/Dropbox (MIT)/CS109_project_data'"
      ]
     },
     "execution_count": 111,
     "metadata": {},
     "output_type": "execute_result"
    }
   ],
   "source": [
    "os.getcwd()"
   ]
  },
  {
   "cell_type": "code",
   "execution_count": 938,
   "metadata": {},
   "outputs": [],
   "source": [
    "# f='/Users/poojatyagi/Dropbox (MIT)/CS109_project_data/Arizona_District_all.csv'\n",
    "# df=pd.DataFrame(pd.read_csv(f))\n",
    "# df.iloc[24,3:len(df):2]"
   ]
  },
  {
   "cell_type": "code",
   "execution_count": 987,
   "metadata": {},
   "outputs": [],
   "source": [
    "#index of data in CSV\n",
    "medage_csv=16\n",
    "unemprate_csv=96\n",
    "medhhincome_csv=198\n",
    "bachdeg_csv=240\n",
    "totpop_csv = 19\n",
    "black_csv = 22\n",
    "asian_csv = 24\n",
    "hispanic_csv = 29"
   ]
  },
  {
   "cell_type": "code",
   "execution_count": 988,
   "metadata": {
    "scrolled": false
   },
   "outputs": [],
   "source": [
    "medianage=[]\n",
    "unemprate=[]\n",
    "medianhhincome=[]\n",
    "bachdegree=[]\n",
    "blackpop=[]\n",
    "asianpop=[]\n",
    "hispanicpop=[]\n",
    "totalpop=[]\n",
    "filename=[]\n",
    "num_districts=[]\n",
    "statename=[]\n",
    "\n",
    "for f in os.listdir('/Users/poojatyagi/Dropbox (MIT)/CS109_project_data/'):\n",
    "    if f.endswith('.csv'):\n",
    "        df=pd.DataFrame(pd.read_csv(f))\n",
    "        a1=np.transpose(df.iloc[medage_csv,3:len(df):2]) #Median age data from csv\n",
    "        a2=np.transpose(df.iloc[unemprate_csv,3:len(df):2])  #Unemployment rate data from csv\n",
    "        a3=np.transpose(df.iloc[medhhincome_csv,3:len(df):2])  #Median household income data from csv\n",
    "        a4=np.transpose(df.iloc[bachdeg_csv,3:len(df):2])  # bachelors degree or higher (percent) data from csv\n",
    "        a5=np.transpose(df.iloc[black_csv,3:len(df):2]) #Black population\n",
    "        a6=np.transpose(df.iloc[asian_csv,3:len(df):2]) #Asian population\n",
    "        a7=np.transpose(df.iloc[hispanic_csv,3:len(df):2]) #Hispanic population\n",
    "        totpop=np.transpose(df.iloc[totpop_csv,3:len(df):2]) #Total population\n",
    "        \n",
    "        #Index should be in the form statename_district#\n",
    "        sname=f.partition('_District')[0].replace(\"_\",\" \")\n",
    "        a1.index=[sname+'_'+a1.index[i].split()[1] for i in range(len(a1))]\n",
    "        a2.index=[sname+'_'+a2.index[i].split()[1] for i in range(len(a2))]\n",
    "        a3.index=[sname+'_'+a3.index[i].split()[1] for i in range(len(a3))]\n",
    "        a4.index=[sname+'_'+a4.index[i].split()[1] for i in range(len(a4))]\n",
    "        a5.index=[sname+'_'+a5.index[i].split()[1] for i in range(len(a5))]\n",
    "        a6.index=[sname+'_'+a6.index[i].split()[1] for i in range(len(a6))]\n",
    "        a7.index=[sname+'_'+a7.index[i].split()[1] for i in range(len(a7))]\n",
    "        totpop.index=[sname+'_'+totpop.index[i].split()[1] for i in range(len(totpop))]\n",
    "        \n",
    "        #Create a list of district level data\n",
    "        medianage.append(a1)\n",
    "        unemprate.append(a2)\n",
    "        medianhhincome.append(a3)\n",
    "        bachdegree.append(a4)\n",
    "        blackpop.append(a5)\n",
    "        asianpop.append(a6)\n",
    "        hispanicpop.append(a7)\n",
    "        totalpop.append(totpop)  \n",
    "        filename.append(f)\n",
    "        num_districts.append(len(a1))\n",
    "        statename.append(sname)"
   ]
  },
  {
   "cell_type": "code",
   "execution_count": 989,
   "metadata": {},
   "outputs": [],
   "source": [
    "assert len(unemprate)==len(medianage) == len(medianhhincome) == len(bachdegree)"
   ]
  },
  {
   "cell_type": "code",
   "execution_count": 990,
   "metadata": {},
   "outputs": [],
   "source": [
    "med_age_df=pd.DataFrame(medianage[0])\n",
    "unemp_rate_df=pd.DataFrame(unemprate[0])\n",
    "med_hh_income_df=pd.DataFrame(medianhhincome[0])\n",
    "bach_degree_df=pd.DataFrame(bachdegree[0])\n",
    "blackpop_df= pd.DataFrame(blackpop[0])\n",
    "asianpop_df= pd.DataFrame(asianpop[0])\n",
    "hispanicpop_df= pd.DataFrame(hispanicpop[0])\n",
    "totpop_df= pd.DataFrame(totalpop[0])\n",
    "                        \n",
    "for i in range(1,len(medianage)):\n",
    "    med_age_df=pd.concat([med_age_df, pd.DataFrame(medianage[i])],axis=0)\n",
    "    unemp_rate_df=pd.concat([unemp_rate_df, pd.DataFrame(unemprate[i])],axis=0)\n",
    "    med_hh_income_df=pd.concat([med_hh_income_df, pd.DataFrame(medianhhincome[i])],axis=0)\n",
    "    bach_degree_df=pd.concat([bach_degree_df, pd.DataFrame(bachdegree[i])],axis=0)\n",
    "    blackpop_df=pd.concat([blackpop_df, pd.DataFrame(blackpop[i])],axis=0)\n",
    "    asianpop_df=pd.concat([asianpop_df, pd.DataFrame(asianpop[i])],axis=0)\n",
    "    hispanicpop_df=pd.concat([hispanicpop_df, pd.DataFrame(hispanicpop[i])],axis=0)\n",
    "    totpop_df=pd.concat([totpop_df, pd.DataFrame(totalpop[i])],axis=0)\n",
    "    "
   ]
  },
  {
   "cell_type": "code",
   "execution_count": 846,
   "metadata": {},
   "outputs": [
    {
     "name": "stdout",
     "output_type": "stream",
     "text": [
      "Total number of districts is: 435\n"
     ]
    }
   ],
   "source": [
    "print(\"Total number of districts is: {}\".format(np.sum(num_districts)))"
   ]
  },
  {
   "cell_type": "code",
   "execution_count": 992,
   "metadata": {},
   "outputs": [],
   "source": [
    "new_state_list=[]\n",
    "\n",
    "for i in range(len(statename)):\n",
    "    new_state_list.append([str(statename[i])]*len(medianage[i]))\n",
    "\n",
    "new_state_list_df=pd.DataFrame(new_state_list[0])\n",
    "\n",
    "for i in range(1,len(new_state_list)):\n",
    "    new_state_list_df=pd.concat([new_state_list_df, pd.DataFrame(new_state_list[i])],axis=0)"
   ]
  },
  {
   "cell_type": "code",
   "execution_count": 993,
   "metadata": {},
   "outputs": [],
   "source": [
    "df_list=[unemp_rate_df,med_hh_income_df,bach_degree_df, blackpop_df,asianpop_df,hispanicpop_df,totpop_df]\n",
    "df_new= med_age_df\n",
    "for i in df_list:\n",
    "    df_new=pd.merge(df_new,i, how='left', left_index=True, right_index=True)\n",
    "\n",
    "df_new.columns=['Median_Age','Unemployment_Rate','Median_HH_Income','Percent_BachDegree',\n",
    "'Black','Asian','Hispanic','TotalPop']"
   ]
  },
  {
   "cell_type": "code",
   "execution_count": 994,
   "metadata": {},
   "outputs": [
    {
     "data": {
      "text/plain": [
       "(435, 8)"
      ]
     },
     "execution_count": 994,
     "metadata": {},
     "output_type": "execute_result"
    }
   ],
   "source": [
    "df_new.shape"
   ]
  },
  {
   "cell_type": "code",
   "execution_count": 995,
   "metadata": {
    "scrolled": true
   },
   "outputs": [],
   "source": [
    "df_new=df_new.astype(float)"
   ]
  },
  {
   "cell_type": "code",
   "execution_count": 1008,
   "metadata": {},
   "outputs": [],
   "source": [
    "df_data=df_new.copy()\n",
    "df_data=df_data.astype(float)"
   ]
  },
  {
   "cell_type": "code",
   "execution_count": 1009,
   "metadata": {},
   "outputs": [],
   "source": [
    "df_data['Black']=df_new['Black']/df_new['TotalPop']*100\n",
    "df_data['Asian']=df_new['Asian']/df_new['TotalPop']*100\n",
    "df_data['Hispanic']=df_new['Hispanic']/df_new['TotalPop']*100\n",
    "df_data['Median_HH_Income']=df_new['Median_HH_Income']/1000\n",
    "df_data=df_data.drop(['TotalPop'], axis=1)"
   ]
  },
  {
   "cell_type": "code",
   "execution_count": 1010,
   "metadata": {},
   "outputs": [],
   "source": [
    "df_data['Label']=df_data.index\n",
    "df_data=df_data.reset_index(drop=True)"
   ]
  },
  {
   "cell_type": "code",
   "execution_count": 1011,
   "metadata": {},
   "outputs": [],
   "source": [
    "new_state_list_df=new_state_list_df.reset_index(drop=True)\n",
    "new_state_list_df.columns = ['StateName']\n",
    "df_data=pd.concat([df_data,new_state_list_df],axis=1)"
   ]
  },
  {
   "cell_type": "code",
   "execution_count": 795,
   "metadata": {},
   "outputs": [],
   "source": [
    "# print(\"# of districts \\t State\")\n",
    "# print(\"----------------|-----------\")\n",
    "# for i in range(len(num_districts)):\n",
    "#     print(num_districts[i], \"\\t\\t|\", statename[i])"
   ]
  },
  {
   "cell_type": "code",
   "execution_count": 1012,
   "metadata": {},
   "outputs": [],
   "source": [
    "state_abbs = pd.read_csv(\"/Users/poojatyagi/Dropbox (MIT)/CS109_project_data/Usefuldata/state_abbreviations_correspondence_table.csv\"\n",
    "                         , sep = \"\\t\")"
   ]
  },
  {
   "cell_type": "code",
   "execution_count": 1013,
   "metadata": {},
   "outputs": [],
   "source": [
    "StateAbb=[None] * len(df_data)\n",
    "for j in range(len(df_data)):\n",
    "    for i in range(len(state_abbs)):\n",
    "        if (df_data['StateName'][j]==  state_abbs.iloc[i,0]):\n",
    "            StateAbb[j]=state_abbs.iloc[i,1]\n",
    "\n",
    "df_data['StateAbb'] = StateAbb\n",
    "df_data=df_data.drop(['Label'], axis=1)"
   ]
  },
  {
   "cell_type": "code",
   "execution_count": 1014,
   "metadata": {},
   "outputs": [
    {
     "data": {
      "text/html": [
       "<div>\n",
       "<style scoped>\n",
       "    .dataframe tbody tr th:only-of-type {\n",
       "        vertical-align: middle;\n",
       "    }\n",
       "\n",
       "    .dataframe tbody tr th {\n",
       "        vertical-align: top;\n",
       "    }\n",
       "\n",
       "    .dataframe thead th {\n",
       "        text-align: right;\n",
       "    }\n",
       "</style>\n",
       "<table border=\"1\" class=\"dataframe\">\n",
       "  <thead>\n",
       "    <tr style=\"text-align: right;\">\n",
       "      <th></th>\n",
       "      <th>Median_Age</th>\n",
       "      <th>Unemployment_Rate</th>\n",
       "      <th>Median_HH_Income</th>\n",
       "      <th>Percent_BachDegree</th>\n",
       "      <th>Black</th>\n",
       "      <th>Asian</th>\n",
       "      <th>Hispanic</th>\n",
       "      <th>StateName</th>\n",
       "      <th>StateAbb</th>\n",
       "    </tr>\n",
       "  </thead>\n",
       "  <tbody>\n",
       "    <tr>\n",
       "      <th>0</th>\n",
       "      <td>40.0</td>\n",
       "      <td>5.8</td>\n",
       "      <td>47.984</td>\n",
       "      <td>25.0</td>\n",
       "      <td>27.866024</td>\n",
       "      <td>1.502222</td>\n",
       "      <td>3.080417</td>\n",
       "      <td>Alabama</td>\n",
       "      <td>AL</td>\n",
       "    </tr>\n",
       "    <tr>\n",
       "      <th>1</th>\n",
       "      <td>38.5</td>\n",
       "      <td>6.2</td>\n",
       "      <td>46.579</td>\n",
       "      <td>23.1</td>\n",
       "      <td>30.735289</td>\n",
       "      <td>1.140735</td>\n",
       "      <td>3.629841</td>\n",
       "      <td>Alabama</td>\n",
       "      <td>AL</td>\n",
       "    </tr>\n",
       "    <tr>\n",
       "      <th>2</th>\n",
       "      <td>38.1</td>\n",
       "      <td>5.3</td>\n",
       "      <td>46.484</td>\n",
       "      <td>21.7</td>\n",
       "      <td>26.344710</td>\n",
       "      <td>1.650556</td>\n",
       "      <td>2.880274</td>\n",
       "      <td>Alabama</td>\n",
       "      <td>AL</td>\n",
       "    </tr>\n",
       "    <tr>\n",
       "      <th>3</th>\n",
       "      <td>40.7</td>\n",
       "      <td>6.0</td>\n",
       "      <td>43.218</td>\n",
       "      <td>17.9</td>\n",
       "      <td>7.173333</td>\n",
       "      <td>0.563487</td>\n",
       "      <td>6.704806</td>\n",
       "      <td>Alabama</td>\n",
       "      <td>AL</td>\n",
       "    </tr>\n",
       "    <tr>\n",
       "      <th>4</th>\n",
       "      <td>39.5</td>\n",
       "      <td>4.7</td>\n",
       "      <td>54.707</td>\n",
       "      <td>31.9</td>\n",
       "      <td>17.981308</td>\n",
       "      <td>1.807815</td>\n",
       "      <td>5.196789</td>\n",
       "      <td>Alabama</td>\n",
       "      <td>AL</td>\n",
       "    </tr>\n",
       "  </tbody>\n",
       "</table>\n",
       "</div>"
      ],
      "text/plain": [
       "   Median_Age  Unemployment_Rate  Median_HH_Income  Percent_BachDegree  \\\n",
       "0        40.0                5.8            47.984                25.0   \n",
       "1        38.5                6.2            46.579                23.1   \n",
       "2        38.1                5.3            46.484                21.7   \n",
       "3        40.7                6.0            43.218                17.9   \n",
       "4        39.5                4.7            54.707                31.9   \n",
       "\n",
       "       Black     Asian  Hispanic StateName StateAbb  \n",
       "0  27.866024  1.502222  3.080417   Alabama       AL  \n",
       "1  30.735289  1.140735  3.629841   Alabama       AL  \n",
       "2  26.344710  1.650556  2.880274   Alabama       AL  \n",
       "3   7.173333  0.563487  6.704806   Alabama       AL  \n",
       "4  17.981308  1.807815  5.196789   Alabama       AL  "
      ]
     },
     "execution_count": 1014,
     "metadata": {},
     "output_type": "execute_result"
    }
   ],
   "source": [
    "df_data.head()"
   ]
  },
  {
   "cell_type": "code",
   "execution_count": 1003,
   "metadata": {},
   "outputs": [],
   "source": [
    "df_grouped=df_data.groupby('StateAbb').mean()"
   ]
  },
  {
   "cell_type": "code",
   "execution_count": 1004,
   "metadata": {
    "scrolled": false
   },
   "outputs": [
    {
     "data": {
      "text/plain": [
       "Index(['AK', 'AL', 'AR', 'AZ', 'CA', 'CO', 'CT', 'DE', 'FL', 'GA', 'HI', 'IA',\n",
       "       'ID', 'IL', 'IN', 'KS', 'KY', 'LA', 'MA', 'MD', 'ME', 'MI', 'MN', 'MO',\n",
       "       'MS', 'MT', 'NC', 'ND', 'NE', 'NH', 'NJ', 'NM', 'NV', 'NY', 'OH', 'OK',\n",
       "       'OR', 'PA', 'RI', 'SC', 'SD', 'TN', 'TX', 'UT', 'VA', 'VT', 'WA', 'WI',\n",
       "       'WV', 'WY'],\n",
       "      dtype='object', name='StateAbb')"
      ]
     },
     "execution_count": 1004,
     "metadata": {},
     "output_type": "execute_result"
    }
   ],
   "source": [
    "df_grouped.index"
   ]
  },
  {
   "cell_type": "code",
   "execution_count": 1018,
   "metadata": {},
   "outputs": [
    {
     "data": {
      "image/png": "[encoded data removed]",
      "text/plain": [
       "<Figure size 720x720 with 9 Axes>"
      ]
     },
     "metadata": {},
     "output_type": "display_data"
    }
   ],
   "source": [
    "fig, ax = plt.subplots(nrows=3, ncols=3, figsize=(10,10))\n",
    "ax = ax.flatten()\n",
    "fig.suptitle('Distribution of predictors across 435 districts (2017)', y=1.03)\n",
    "\n",
    "labels=['Median Age (yrs)', 'Unemployment Rate', 'Median Household Income (X1000 $)','% with bachelors degree', \n",
    "        '% Black', \n",
    "       '% Asian', '% Hispanic']\n",
    "\n",
    "for i in range(7):\n",
    "    ax[i].hist(df_data.iloc[:,i].dropna(), alpha=0.5, color='magenta')\n",
    "    ax[i].set_ylabel('Count')\n",
    "    ax[i].set_xlabel(labels[i])\n",
    "    \n",
    "plt.tight_layout()\n",
    "\n",
    "plt.savefig('sample.pdf', bbox_inches='tight')"
   ]
  },
  {
   "cell_type": "code",
   "execution_count": 946,
   "metadata": {},
   "outputs": [],
   "source": [
    "# df_grouped.sort_values('Median_Age', inplace=True)\n",
    "# fig = plt.figure(figsize=(10,7))\n",
    "# #sns.barplot(x=df_grouped.index, y= df_grouped['Median_Age'])\n",
    "# df_grouped.plot(y='Median_Age', kind='barh',figsize=(15,10),legend=False, alpha=0.5, colormap='Paired', color='red');"
   ]
  },
  {
   "cell_type": "code",
   "execution_count": 945,
   "metadata": {
    "scrolled": true
   },
   "outputs": [],
   "source": [
    "# fig, ax = plt.subplots(figsize=(10,10))\n",
    "# m = Basemap(resolution='c', # c, l, i, h, f or None\n",
    "#             projection='merc',\n",
    "#             #lat_0=54.5, lon_0=50,\n",
    "#             llcrnrlon=127., llcrnrlat= 23, urcrnrlon=62., urcrnrlat=50)\n",
    "\n",
    "# # m = Basemap(resolution='c', # c, l, i, h, f or None\n",
    "# #             projection='merc',\n",
    "# #             lat_0=54.5, lon_0=-4.36,\n",
    "# #             llcrnrlon=-6., llcrnrlat= 49.5, urcrnrlon=2., urcrnrlat=55.2)\n",
    "\n",
    "# m.drawmapboundary(fill_color='#46bcec')\n",
    "# m.fillcontinents(color='#f2f2f2',lake_color='#46bcec')\n",
    "# m.drawcoastlines()"
   ]
  },
  {
   "cell_type": "code",
   "execution_count": 1017,
   "metadata": {},
   "outputs": [],
   "source": [
    "#m.readshapefile('/Users/poojatyagi/Dropbox (MIT)/CS109_project_data/Usefuldata/ShapeFile/cb_2017_us_state_500k', 'areas')"
   ]
  }
 ],
 "metadata": {
  "kernelspec": {
   "display_name": "Python 3",
   "language": "python",
   "name": "python3"
  },
  "language_info": {
   "codemirror_mode": {
    "name": "ipython",
    "version": 3
   },
   "file_extension": ".py",
   "mimetype": "text/x-python",
   "name": "python",
   "nbconvert_exporter": "python",
   "pygments_lexer": "ipython3",
   "version": "3.6.5"
  }
 },
 "nbformat": 4,
 "nbformat_minor": 2
}
