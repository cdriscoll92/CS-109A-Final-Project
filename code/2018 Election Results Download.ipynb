{
 "cells": [
  {
   "cell_type": "code",
   "execution_count": 1,
   "metadata": {},
   "outputs": [],
   "source": [
    "import pandas as pd\n",
    "from bs4 import BeautifulSoup\n",
    "import time\n",
    "import requests"
   ]
  },
  {
   "cell_type": "code",
   "execution_count": 2,
   "metadata": {},
   "outputs": [],
   "source": [
    "data_folder = \"https://raw.githubusercontent.com/cdriscoll92/CS-109A-Final-Project/master/data/\"\n",
    "local_data_folder = \"/Users/colleendriscoll/Dropbox/Classes/CS 109A/CS 109A Final project/data/\""
   ]
  },
  {
   "cell_type": "code",
   "execution_count": 3,
   "metadata": {},
   "outputs": [],
   "source": [
    "politico_url_front = \"https://www.politico.com/election-results/2018/\""
   ]
  },
  {
   "cell_type": "code",
   "execution_count": 4,
   "metadata": {},
   "outputs": [],
   "source": [
    "## Reading in state abbreviations file to get the correct district ID columns\n",
    "state_abbs = pd.read_csv(data_folder + \"state_abbreviations_correspondence_table.csv\")\n",
    "\n",
    "## Politico site formatting for names\n",
    "states = list(state_abbs.state_name.str.lower().values)\n",
    "states_lower = [x.replace(\" \", \"-\") for x in states]"
   ]
  },
  {
   "cell_type": "code",
   "execution_count": 5,
   "metadata": {},
   "outputs": [],
   "source": [
    "def BS_html_parsed_from_html(URL):\n",
    "    ## requires BeautifulSoup, time, requests\n",
    "    time.sleep(2)\n",
    "    bs_out = BeautifulSoup(requests.get(URL).text, \"html.parser\")\n",
    "    return(bs_out)\n"
   ]
  },
  {
   "cell_type": "code",
   "execution_count": 6,
   "metadata": {},
   "outputs": [],
   "source": [
    "\n",
    "\n",
    "## By state\n",
    "## Get state page\n",
    "## Figure out how many districts there are in the state\n",
    "## Get district tables\n",
    "## Parse district tables\n",
    "## Save district tables"
   ]
  },
  {
   "cell_type": "code",
   "execution_count": 7,
   "metadata": {},
   "outputs": [],
   "source": [
    "results_2018 = {'district': [],\n",
    "               'party': [],\n",
    "               'votes': []}\n",
    "for i, abb in enumerate(state_abbs.state_abb):\n",
    "    state_url = politico_url_front + states_lower[i]\n",
    "    ## Get state page\n",
    "    BS_page_state_i = BS_html_parsed_from_html(state_url)\n",
    "\n",
    "    ## Figure out how many districts there are in the state\n",
    "    district_links = BS_page_state_i.findAll(\"div\",\\\n",
    "                            {\"class\":\"district-links\"})\n",
    "\n",
    "    ## At-large districts don't have links and are referenced\n",
    "    ## differently from multi-district states    \n",
    "    if len(district_links) >0:\n",
    "        district_n = len(district_links[0].findAll(\"a\"))\n",
    "        districts_formatted = ['{num:02d}'.format(num=k) for k \\\n",
    "                            in range(1, district_n+1)]\n",
    "    else:\n",
    "        districts_formatted = ['00']\n",
    "\n",
    "    ## Get district tables\n",
    "    dist_ids = [abb+\"-\"+dist_i for dist_i in districts_formatted]\n",
    "    for district in dist_ids:\n",
    "        ## Get the section on the page for this district\n",
    "        district_html = BS_page_state_i.findAll(\"section\",\n",
    "                                                {\"id\": district})\n",
    "        ## Get the table where the results are\n",
    "        results_table = district_html[0].findAll(\"tr\")\n",
    "        \n",
    "        ## Table composed of headers and footers; only\n",
    "        ## grab candidate/vote information\n",
    "        last_candidate_index = len(results_table)-2\n",
    "        for j in range(1, last_candidate_index):\n",
    "            ## Get party and number of votes for each cand.\n",
    "            party = results_table[j].find(\"td\",\n",
    "                                          {\"class\":\"party\"})\n",
    "            votes = results_table[j].find(\"td\",\n",
    "                                          {\"class\":\"vote-count\"})\n",
    "\n",
    "            ## Add these results to the results dictionary\n",
    "            results_2018['district'].append(district)\n",
    "            results_2018['party'].append(party.text)\n",
    "            results_2018['votes'].append(votes.text)\n",
    "\n",
    "results_2018_df = pd.DataFrame(results_2018)\n",
    "results_2018_df.to_csv(local_data_folder + \"election_results/2018_scraped.csv\")"
   ]
  },
  {
   "cell_type": "code",
   "execution_count": null,
   "metadata": {},
   "outputs": [],
   "source": [
    "## Cleaning up more"
   ]
  },
  {
   "cell_type": "code",
   "execution_count": 12,
   "metadata": {},
   "outputs": [
    {
     "data": {
      "text/html": [
       "<div>\n",
       "<style scoped>\n",
       "    .dataframe tbody tr th:only-of-type {\n",
       "        vertical-align: middle;\n",
       "    }\n",
       "\n",
       "    .dataframe tbody tr th {\n",
       "        vertical-align: top;\n",
       "    }\n",
       "\n",
       "    .dataframe thead th {\n",
       "        text-align: right;\n",
       "    }\n",
       "</style>\n",
       "<table border=\"1\" class=\"dataframe\">\n",
       "  <thead>\n",
       "    <tr style=\"text-align: right;\">\n",
       "      <th></th>\n",
       "      <th>district</th>\n",
       "      <th>party</th>\n",
       "      <th>votes</th>\n",
       "    </tr>\n",
       "  </thead>\n",
       "  <tbody>\n",
       "    <tr>\n",
       "      <th>0</th>\n",
       "      <td>AK_1</td>\n",
       "      <td>D</td>\n",
       "      <td>107,165</td>\n",
       "    </tr>\n",
       "    <tr>\n",
       "      <th>1</th>\n",
       "      <td>AK_1</td>\n",
       "      <td>R</td>\n",
       "      <td>126,655</td>\n",
       "    </tr>\n",
       "    <tr>\n",
       "      <th>2</th>\n",
       "      <td>AL_1</td>\n",
       "      <td>D</td>\n",
       "      <td>88,365</td>\n",
       "    </tr>\n",
       "    <tr>\n",
       "      <th>3</th>\n",
       "      <td>AL_1</td>\n",
       "      <td>R</td>\n",
       "      <td>152,308</td>\n",
       "    </tr>\n",
       "    <tr>\n",
       "      <th>4</th>\n",
       "      <td>AL_2</td>\n",
       "      <td>D</td>\n",
       "      <td>86,580</td>\n",
       "    </tr>\n",
       "  </tbody>\n",
       "</table>\n",
       "</div>"
      ],
      "text/plain": [
       "  district party    votes\n",
       "0     AK_1     D  107,165\n",
       "1     AK_1     R  126,655\n",
       "2     AL_1     D   88,365\n",
       "3     AL_1     R  152,308\n",
       "4     AL_2     D   86,580"
      ]
     },
     "execution_count": 12,
     "metadata": {},
     "output_type": "execute_result"
    }
   ],
   "source": [
    "results_2018 = pd.read_csv(local_data_folder + \"election_results/2018_scraped_cleaned.csv\")\n",
    "results_2018[:5]"
   ]
  },
  {
   "cell_type": "code",
   "execution_count": 19,
   "metadata": {},
   "outputs": [],
   "source": [
    "results_2018.votes = results_2018.votes.str.replace(\",\", \"\").astype(int)"
   ]
  },
  {
   "cell_type": "code",
   "execution_count": 21,
   "metadata": {},
   "outputs": [
    {
     "data": {
      "text/plain": [
       "district    object\n",
       "party       object\n",
       "votes        int64\n",
       "dtype: object"
      ]
     },
     "execution_count": 21,
     "metadata": {},
     "output_type": "execute_result"
    }
   ],
   "source": [
    "results_2018.dtypes"
   ]
  },
  {
   "cell_type": "code",
   "execution_count": 22,
   "metadata": {},
   "outputs": [],
   "source": [
    "results_2018['year'] = 2018"
   ]
  },
  {
   "cell_type": "code",
   "execution_count": null,
   "metadata": {},
   "outputs": [],
   "source": []
  }
 ],
 "metadata": {
  "kernelspec": {
   "display_name": "Python 3",
   "language": "python",
   "name": "python3"
  },
  "language_info": {
   "codemirror_mode": {
    "name": "ipython",
    "version": 3
   },
   "file_extension": ".py",
   "mimetype": "text/x-python",
   "name": "python",
   "nbconvert_exporter": "python",
   "pygments_lexer": "ipython3",
   "version": "3.6.5"
  }
 },
 "nbformat": 4,
 "nbformat_minor": 2
}
