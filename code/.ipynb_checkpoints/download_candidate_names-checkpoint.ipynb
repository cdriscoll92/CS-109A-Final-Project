{
 "cells": [
  {
   "cell_type": "code",
   "execution_count": 83,
   "metadata": {},
   "outputs": [],
   "source": [
    "from bs4 import BeautifulSoup\n",
    "import time, requests\n",
    "import pandas as pd\n",
    "import numpy as np\n",
    "import re"
   ]
  },
  {
   "cell_type": "code",
   "execution_count": 48,
   "metadata": {},
   "outputs": [],
   "source": [
    "url = \"https://en.wikipedia.org/wiki/United_States_House_of_Representatives_elections,_2018\""
   ]
  },
  {
   "cell_type": "code",
   "execution_count": 49,
   "metadata": {},
   "outputs": [],
   "source": [
    "# page = requests.get(url).text\n",
    "# file_path = \"wikipedia_page.html\"\n",
    "# with open(file_path, \"w+\") as file:\n",
    "#     file.write(page)"
   ]
  },
  {
   "cell_type": "code",
   "execution_count": 50,
   "metadata": {},
   "outputs": [],
   "source": [
    "def open_file_and_read_html(filename):\n",
    "    with open(filename) as f:\n",
    "        page_content = f.read()\n",
    "        bs_page = BeautifulSoup(page_content, \"html.parser\")\n",
    "    return(bs_page)"
   ]
  },
  {
   "cell_type": "code",
   "execution_count": 51,
   "metadata": {},
   "outputs": [],
   "source": [
    "def BS_html_parsed_from_html(URL):\n",
    "    time.sleep(2)\n",
    "    bs_out = BeautifulSoup(requests.get(URL).text, \"html.parser\")\n",
    "    return(bs_out)"
   ]
  },
  {
   "cell_type": "code",
   "execution_count": 52,
   "metadata": {},
   "outputs": [],
   "source": [
    "bs_page = open_file_and_read_html(\"wikipedia_page.html\")\n",
    "test = bs_page.findAll(\"table\")\n",
    "\n",
    "\n"
   ]
  },
  {
   "cell_type": "code",
   "execution_count": 31,
   "metadata": {},
   "outputs": [],
   "source": [
    "def parse_wiki_html_table(table):\n",
    "    n_columns = 0\n",
    "    n_rows=0\n",
    "    column_names = []\n",
    "\n",
    "    # Find number of rows and columns\n",
    "    # we also find the column titles if we can\n",
    "    for row in table.find_all('tr')[2:]:\n",
    "\n",
    "        # Determine the number of rows in the table\n",
    "        td_tags = row.find_all('td')\n",
    "        if len(td_tags) > 0:\n",
    "            n_rows+=1\n",
    "            if n_columns == 0:\n",
    "                # Set the number of columns for our table\n",
    "                n_columns = len(td_tags)\n",
    "\n",
    "        # Handle column names if we find them\n",
    "        th_tags = row.find_all('th') \n",
    "        if len(th_tags) > 0 and len(column_names) == 0:\n",
    "            for th in th_tags:\n",
    "                column_names.append(th.get_text())\n",
    "\n",
    "    # Safeguard on Column Titles\n",
    "    if len(column_names) > 0 and len(column_names) != n_columns:\n",
    "        raise Exception(\"Column titles do not match the number of columns\")\n",
    "\n",
    "    columns = column_names if len(column_names) > 0 else range(0,n_columns)\n",
    "    df = pd.DataFrame(columns = columns,\n",
    "                      index= range(0,n_rows))\n",
    "    row_marker = 0\n",
    "    for row in table.find_all('tr'):\n",
    "        column_marker = 0\n",
    "        columns = row.find_all('td')\n",
    "        for column in columns:\n",
    "            df.iat[row_marker,column_marker] = column.get_text()\n",
    "            column_marker += 1\n",
    "        if len(columns) > 0:\n",
    "            row_marker += 1\n",
    "\n",
    "    # Convert to float if possible\n",
    "    for col in df:\n",
    "        try:\n",
    "            df[col] = df[col].astype(float)\n",
    "        except ValueError:\n",
    "            pass\n",
    "\n",
    "    return df"
   ]
  },
  {
   "cell_type": "code",
   "execution_count": 46,
   "metadata": {},
   "outputs": [
    {
     "name": "stdout",
     "output_type": "stream",
     "text": [
      "7\n",
      "[[], [], [], [], [], [], []]\n"
     ]
    }
   ],
   "source": [
    "table = test[9]\n",
    "n_columns = int(len(table.find_all('tr')[-1])/2)\n",
    "columns = [[] for x in range(n_columns)]"
   ]
  },
  {
   "cell_type": "code",
   "execution_count": null,
   "metadata": {},
   "outputs": [],
   "source": [
    "def parse_wiki_html_table(table):\n",
    "    n_columns = int(len(table.find_all('tr')[-1])/2)\n",
    "    n_rows=0\n",
    "    columns = [[] for x in range(n_columns)]\n",
    "        \n",
    "    # Find number of rows and columns\n",
    "    # we also find the column titles if we can\n",
    "    for row in table.find_all('tr')[2:]:\n",
    "        row_entries = row.find_all(['th', 'td'])\n",
    "        n_district = len(row_entries)\n",
    "        for district in range(n_district):\n",
    "            "
   ]
  },
  {
   "cell_type": "code",
   "execution_count": 104,
   "metadata": {},
   "outputs": [
    {
     "name": "stdout",
     "output_type": "stream",
     "text": [
      "7\n",
      "['Bradley Byrne (Republican)', 'Robert Kennedy Jr. (Democratic)']\n"
     ]
    }
   ],
   "source": [
    "print(len(test[9].find_all('tr')[2].find_all(['th', 'td'])))\n",
    "test_names = test[9].find_all('tr')[2].find_all(['th', 'td'])[6].text\n",
    "print(re.findall(\"[A-Z][^\\[]{1,}\", test_names))\n",
    "# test_names_split = test_names.split(\"]\")[:-1]\n",
    "# print(test_names_split)\n",
    "# for name in test_names_split:\n",
    "#     print(re.search(\"[A-Z][^\\[]{1,}\", name).group())"
   ]
  },
  {
   "cell_type": "code",
   "execution_count": 43,
   "metadata": {},
   "outputs": [
    {
     "name": "stdout",
     "output_type": "stream",
     "text": [
      "14\n",
      "<class 'bs4.element.Tag'>\n",
      "[<th><a href=\"/wiki/Alabama%27s_1st_congressional_district\" title=\"Alabama's 1st congressional district\">Alabama 1</a>\n",
      "</th>, <td data-sort-value=\"15\" style=\"background:#FFB6B6\">R+15\n",
      "</td>, <td><a href=\"/wiki/Bradley_Byrne\" title=\"Bradley Byrne\">Bradley Byrne</a>\n",
      "</td>, <td style=\"background:#FFB6B6\">Republican\n",
      "</td>, <td nowrap=\"\"><a href=\"/wiki/Alabama%27s_1st_congressional_district_special_election,_2013\" title=\"Alabama's 1st congressional district special election, 2013\">2013 (Special)</a>\n",
      "</td>, <td>Incumbent renominated.\n",
      "</td>, <td nowrap=\"\"><a href=\"/wiki/Bradley_Byrne\" title=\"Bradley Byrne\">Bradley Byrne</a> (Republican)<sup class=\"reference\" id=\"cite_ref-ALGOP_55-0\"><a href=\"#cite_note-ALGOP-55\">[50]</a></sup><br/>Robert Kennedy Jr. (Democratic)<sup class=\"reference\" id=\"cite_ref-ALDems_56-0\"><a href=\"#cite_note-ALDems-56\">[51]</a></sup>\n",
      "</td>]\n"
     ]
    }
   ],
   "source": [
    "print(len(test[9].find_all('tr')[2]))\n",
    "print(type(test[9].find_all('tr')[2]))\n",
    "test_row = [x for x in test[9].find_all('tr')[2] if x != '\\n']\n",
    "print(test_row)"
   ]
  },
  {
   "cell_type": "code",
   "execution_count": 39,
   "metadata": {},
   "outputs": [
    {
     "name": "stdout",
     "output_type": "stream",
     "text": [
      "\n",
      "\n",
      "<th><a href=\"/wiki/Alabama%27s_1st_congressional_district\" title=\"Alabama's 1st congressional district\">Alabama 1</a>\n",
      "</th>\n",
      "\n",
      "\n",
      "<td data-sort-value=\"15\" style=\"background:#FFB6B6\">R+15\n",
      "</td>\n",
      "\n",
      "\n",
      "<td><a href=\"/wiki/Bradley_Byrne\" title=\"Bradley Byrne\">Bradley Byrne</a>\n",
      "</td>\n",
      "\n",
      "\n",
      "<td style=\"background:#FFB6B6\">Republican\n",
      "</td>\n",
      "\n",
      "\n",
      "<td nowrap=\"\"><a href=\"/wiki/Alabama%27s_1st_congressional_district_special_election,_2013\" title=\"Alabama's 1st congressional district special election, 2013\">2013 (Special)</a>\n",
      "</td>\n",
      "\n",
      "\n",
      "<td>Incumbent renominated.\n",
      "</td>\n",
      "\n",
      "\n",
      "<td nowrap=\"\"><a href=\"/wiki/Bradley_Byrne\" title=\"Bradley Byrne\">Bradley Byrne</a> (Republican)<sup class=\"reference\" id=\"cite_ref-ALGOP_55-0\"><a href=\"#cite_note-ALGOP-55\">[50]</a></sup><br/>Robert Kennedy Jr. (Democratic)<sup class=\"reference\" id=\"cite_ref-ALDems_56-0\"><a href=\"#cite_note-ALDems-56\">[51]</a></sup>\n",
      "</td>\n"
     ]
    }
   ],
   "source": [
    "for x in test[9].find_all('tr')[2]:\n",
    "    print(x)"
   ]
  },
  {
   "cell_type": "code",
   "execution_count": 33,
   "metadata": {},
   "outputs": [
    {
     "data": {
      "text/plain": [
       "<table class=\"wikitable sortable\">\n",
       "<tbody><tr>\n",
       "<th colspan=\"2\">District\n",
       "</th>\n",
       "<th colspan=\"3\">Incumbent\n",
       "</th>\n",
       "<th rowspan=\"2\">Results\n",
       "</th>\n",
       "<th class=\"unsortable\" rowspan=\"2\">Candidates\n",
       "</th></tr>\n",
       "<tr valign=\"bottom\">\n",
       "<th>Location\n",
       "</th>\n",
       "<th><a href=\"/wiki/Cook_Partisan_Voting_Index\" title=\"Cook Partisan Voting Index\">2017<br/>PVI</a>\n",
       "</th>\n",
       "<th>Representative\n",
       "</th>\n",
       "<th>Party\n",
       "</th>\n",
       "<th>First<br/>elected\n",
       "</th></tr>\n",
       "<tr>\n",
       "<th><a href=\"/wiki/Alabama%27s_1st_congressional_district\" title=\"Alabama's 1st congressional district\">Alabama 1</a>\n",
       "</th>\n",
       "<td data-sort-value=\"15\" style=\"background:#FFB6B6\">R+15\n",
       "</td>\n",
       "<td><a href=\"/wiki/Bradley_Byrne\" title=\"Bradley Byrne\">Bradley Byrne</a>\n",
       "</td>\n",
       "<td style=\"background:#FFB6B6\">Republican\n",
       "</td>\n",
       "<td nowrap=\"\"><a href=\"/wiki/Alabama%27s_1st_congressional_district_special_election,_2013\" title=\"Alabama's 1st congressional district special election, 2013\">2013 (Special)</a>\n",
       "</td>\n",
       "<td>Incumbent renominated.\n",
       "</td>\n",
       "<td nowrap=\"\"><a href=\"/wiki/Bradley_Byrne\" title=\"Bradley Byrne\">Bradley Byrne</a> (Republican)<sup class=\"reference\" id=\"cite_ref-ALGOP_55-0\"><a href=\"#cite_note-ALGOP-55\">[50]</a></sup><br/>Robert Kennedy Jr. (Democratic)<sup class=\"reference\" id=\"cite_ref-ALDems_56-0\"><a href=\"#cite_note-ALDems-56\">[51]</a></sup>\n",
       "</td></tr>\n",
       "<tr>\n",
       "<th><a href=\"/wiki/Alabama%27s_2nd_congressional_district\" title=\"Alabama's 2nd congressional district\">Alabama 2</a>\n",
       "</th>\n",
       "<td data-sort-value=\"16\" style=\"background:#FFB6B6\">R+16\n",
       "</td>\n",
       "<td><a href=\"/wiki/Martha_Roby\" title=\"Martha Roby\">Martha Roby</a>\n",
       "</td>\n",
       "<td style=\"background:#FFB6B6\">Republican\n",
       "</td>\n",
       "<td><a href=\"/wiki/United_States_House_of_Representatives_elections_in_Alabama,_2010\" title=\"United States House of Representatives elections in Alabama, 2010\">2010</a>\n",
       "</td>\n",
       "<td>Incumbent renominated.\n",
       "</td>\n",
       "<td nowrap=\"\">Tabitha Isner (Democratic)<sup class=\"reference\" id=\"cite_ref-ALDems_56-1\"><a href=\"#cite_note-ALDems-56\">[51]</a></sup><br/><a href=\"/wiki/Martha_Roby\" title=\"Martha Roby\">Martha Roby</a> (Republican)<sup class=\"reference\" id=\"cite_ref-ALGOP_55-1\"><a href=\"#cite_note-ALGOP-55\">[50]</a></sup>\n",
       "</td></tr>\n",
       "<tr>\n",
       "<th><a href=\"/wiki/Alabama%27s_3rd_congressional_district\" title=\"Alabama's 3rd congressional district\">Alabama 3</a>\n",
       "</th>\n",
       "<td data-sort-value=\"16\" style=\"background:#FFB6B6\">R+16\n",
       "</td>\n",
       "<td><a href=\"/wiki/Mike_Rogers_(Alabama_politician)\" title=\"Mike Rogers (Alabama politician)\">Mike Rogers</a>\n",
       "</td>\n",
       "<td style=\"background:#FFB6B6\">Republican\n",
       "</td>\n",
       "<td><a class=\"mw-redirect\" href=\"/wiki/United_States_House_of_Representatives_elections_in_Alabama,_2002\" title=\"United States House of Representatives elections in Alabama, 2002\">2002</a>\n",
       "</td>\n",
       "<td>Incumbent renominated.\n",
       "</td>\n",
       "<td nowrap=\"\"><a href=\"/wiki/Mallory_Hagan\" title=\"Mallory Hagan\">Mallory Hagan</a> (Democratic)<sup class=\"reference\" id=\"cite_ref-ALDems_56-2\"><a href=\"#cite_note-ALDems-56\">[51]</a></sup><br/><a href=\"/wiki/Mike_Rogers_(Alabama_politician)\" title=\"Mike Rogers (Alabama politician)\">Mike Rogers</a> (Republican)<sup class=\"reference\" id=\"cite_ref-ALGOP_55-2\"><a href=\"#cite_note-ALGOP-55\">[50]</a></sup>\n",
       "</td></tr>\n",
       "<tr>\n",
       "<th><a href=\"/wiki/Alabama%27s_4th_congressional_district\" title=\"Alabama's 4th congressional district\">Alabama 4</a>\n",
       "</th>\n",
       "<td data-sort-value=\"30\" style=\"background:#FFB6B6\">R+30\n",
       "</td>\n",
       "<td><a href=\"/wiki/Robert_Aderholt\" title=\"Robert Aderholt\">Robert Aderholt</a>\n",
       "</td>\n",
       "<td style=\"background:#FFB6B6\">Republican\n",
       "</td>\n",
       "<td><a class=\"mw-redirect\" href=\"/wiki/United_States_House_of_Representatives_elections_in_Alabama,_1996\" title=\"United States House of Representatives elections in Alabama, 1996\">1996</a>\n",
       "</td>\n",
       "<td>Incumbent renominated.\n",
       "</td>\n",
       "<td nowrap=\"\"><a href=\"/wiki/Robert_Aderholt\" title=\"Robert Aderholt\">Robert Aderholt</a> (Republican)<sup class=\"reference\" id=\"cite_ref-ALGOP_55-3\"><a href=\"#cite_note-ALGOP-55\">[50]</a></sup><br/>Lee Auman (Democratic)<sup class=\"reference\" id=\"cite_ref-ALDems_56-3\"><a href=\"#cite_note-ALDems-56\">[51]</a></sup>\n",
       "</td></tr>\n",
       "<tr>\n",
       "<th><a href=\"/wiki/Alabama%27s_5th_congressional_district\" title=\"Alabama's 5th congressional district\">Alabama 5</a>\n",
       "</th>\n",
       "<td data-sort-value=\"18\" style=\"background:#FFB6B6\">R+18\n",
       "</td>\n",
       "<td><a href=\"/wiki/Mo_Brooks\" title=\"Mo Brooks\">Mo Brooks</a>\n",
       "</td>\n",
       "<td style=\"background:#FFB6B6\">Republican\n",
       "</td>\n",
       "<td><a href=\"/wiki/United_States_House_of_Representatives_elections_in_Alabama,_2010\" title=\"United States House of Representatives elections in Alabama, 2010\">2010</a>\n",
       "</td>\n",
       "<td>Incumbent renominated.\n",
       "</td>\n",
       "<td nowrap=\"\"><a href=\"/wiki/Mo_Brooks\" title=\"Mo Brooks\">Mo Brooks</a> (Republican)<sup class=\"reference\" id=\"cite_ref-ALGOP_55-4\"><a href=\"#cite_note-ALGOP-55\">[50]</a></sup><br/>Peter Joffrion (Democratic)<sup class=\"reference\" id=\"cite_ref-ALDems_56-4\"><a href=\"#cite_note-ALDems-56\">[51]</a></sup>\n",
       "</td></tr>\n",
       "<tr>\n",
       "<th><a href=\"/wiki/Alabama%27s_6th_congressional_district\" title=\"Alabama's 6th congressional district\">Alabama 6</a>\n",
       "</th>\n",
       "<td data-sort-value=\"26\" style=\"background:#FFB6B6\">R+26\n",
       "</td>\n",
       "<td><a href=\"/wiki/Gary_Palmer_(politician)\" title=\"Gary Palmer (politician)\">Gary Palmer</a>\n",
       "</td>\n",
       "<td style=\"background:#FFB6B6\">Republican\n",
       "</td>\n",
       "<td><a href=\"/wiki/United_States_House_of_Representatives_elections_in_Alabama,_2014\" title=\"United States House of Representatives elections in Alabama, 2014\">2014</a>\n",
       "</td>\n",
       "<td>Incumbent renominated.\n",
       "</td>\n",
       "<td nowrap=\"\">Danner Kline (Democratic)<sup class=\"reference\" id=\"cite_ref-ALDems_56-5\"><a href=\"#cite_note-ALDems-56\">[51]</a></sup><br/><a href=\"/wiki/Gary_Palmer_(politician)\" title=\"Gary Palmer (politician)\">Gary Palmer</a> (Republican)<sup class=\"reference\" id=\"cite_ref-ALGOP_55-5\"><a href=\"#cite_note-ALGOP-55\">[50]</a></sup>\n",
       "</td></tr>\n",
       "<tr>\n",
       "<th><a href=\"/wiki/Alabama%27s_7th_congressional_district\" title=\"Alabama's 7th congressional district\">Alabama 7</a>\n",
       "</th>\n",
       "<td data-sort-value=\"-20\" style=\"background:#B0CEFF\">D+20\n",
       "</td>\n",
       "<td><a href=\"/wiki/Terri_Sewell\" title=\"Terri Sewell\">Terri Sewell</a>\n",
       "</td>\n",
       "<td style=\"background:#B0CEFF\">Democratic\n",
       "</td>\n",
       "<td><a href=\"/wiki/United_States_House_of_Representatives_elections_in_Alabama,_2010\" title=\"United States House of Representatives elections in Alabama, 2010\">2010</a>\n",
       "</td>\n",
       "<td>Incumbent renominated.\n",
       "</td>\n",
       "<td nowrap=\"\"><a href=\"/wiki/Terri_Sewell\" title=\"Terri Sewell\">Terri Sewell</a> (Democratic)<sup class=\"reference\" id=\"cite_ref-ALDems_56-6\"><a href=\"#cite_note-ALDems-56\">[51]</a></sup>\n",
       "</td></tr></tbody></table>"
      ]
     },
     "execution_count": 33,
     "metadata": {},
     "output_type": "execute_result"
    }
   ],
   "source": [
    "test[9]"
   ]
  },
  {
   "cell_type": "code",
   "execution_count": null,
   "metadata": {},
   "outputs": [],
   "source": [
    "#mw-content-text > div > table:nth-child(81)\n",
    "def get_state_tables(bs_page):\n",
    "    test = bs_page.select(\"table\")\n",
    "\n",
    "    match = re.search(r\"(\\d+).*?(\\d+)\", str(n_pages_bs))\n",
    "    n_pages = match.group(2)\n",
    "    return(n_pages)\n",
    "\n"
   ]
  },
  {
   "cell_type": "code",
   "execution_count": null,
   "metadata": {},
   "outputs": [],
   "source": [
    "state_table = "
   ]
  },
  {
   "cell_type": "code",
   "execution_count": null,
   "metadata": {},
   "outputs": [],
   "source": []
  },
  {
   "cell_type": "code",
   "execution_count": null,
   "metadata": {},
   "outputs": [],
   "source": []
  }
 ],
 "metadata": {
  "kernelspec": {
   "display_name": "Python 3",
   "language": "python",
   "name": "python3"
  },
  "language_info": {
   "codemirror_mode": {
    "name": "ipython",
    "version": 3
   },
   "file_extension": ".py",
   "mimetype": "text/x-python",
   "name": "python",
   "nbconvert_exporter": "python",
   "pygments_lexer": "ipython3",
   "version": "3.6.5"
  }
 },
 "nbformat": 4,
 "nbformat_minor": 2
}
