{
 "cells": [
  {
   "cell_type": "code",
   "execution_count": 1,
   "metadata": {},
   "outputs": [],
   "source": [
    "import pandas as pd\n",
    "import numpy as np\n",
    "import matplotlib.pyplot as plt\n",
    "import seaborn as snsplt\n",
    "import os.path"
   ]
  },
  {
   "cell_type": "code",
   "execution_count": 111,
   "metadata": {},
   "outputs": [
    {
     "data": {
      "text/plain": [
       "'/Users/poojatyagi/Dropbox (MIT)/CS109_project_data'"
      ]
     },
     "execution_count": 111,
     "metadata": {},
     "output_type": "execute_result"
    }
   ],
   "source": [
    "os.getcwd()"
   ]
  },
  {
   "cell_type": "code",
   "execution_count": 365,
   "metadata": {},
   "outputs": [
    {
     "data": {
      "text/plain": [
       "District 01 Estimate    12252\n",
       "District 02 Estimate      NaN\n",
       "District 03 Estimate    14404\n",
       "District 04 Estimate    11579\n",
       "District 05 Estimate    36692\n",
       "District 06 Estimate    41386\n",
       "District 07 Estimate    21843\n",
       "District 08 Estimate    32293\n",
       "District 09 Estimate    38442\n",
       "Name: 24, dtype: object"
      ]
     },
     "execution_count": 365,
     "metadata": {},
     "output_type": "execute_result"
    }
   ],
   "source": [
    "f='/Users/poojatyagi/Dropbox (MIT)/CS109_project_data/Arizona_District_all.csv'\n",
    "df=pd.DataFrame(pd.read_csv(f))\n",
    "df.iloc[24,3:len(df):2]"
   ]
  },
  {
   "cell_type": "code",
   "execution_count": 2,
   "metadata": {},
   "outputs": [],
   "source": [
    "#index of data in CSV\n",
    "medage_csv=16\n",
    "unemprate_csv=96\n",
    "medhhincome_csv=196\n",
    "bachdeg_csv=240\n",
    "totpop_csv = 19\n",
    "black_csv = 22\n",
    "asian_csv = 24\n",
    "hispanic_csv = 29"
   ]
  },
  {
   "cell_type": "code",
   "execution_count": 5,
   "metadata": {},
   "outputs": [
    {
     "ename": "FileNotFoundError",
     "evalue": "[Errno 2] No such file or directory: '~/Dropbox/Classes/CS 109A/CS 109A Final project/data/Socio-economicData'",
     "output_type": "error",
     "traceback": [
      "\u001b[0;31m---------------------------------------------------------------------------\u001b[0m",
      "\u001b[0;31mFileNotFoundError\u001b[0m                         Traceback (most recent call last)",
      "\u001b[0;32m<ipython-input-5-f96a87083a5c>\u001b[0m in \u001b[0;36m<module>\u001b[0;34m()\u001b[0m\n\u001b[0;32m----> 1\u001b[0;31m \u001b[0mos\u001b[0m\u001b[0;34m.\u001b[0m\u001b[0mlistdir\u001b[0m\u001b[0;34m(\u001b[0m\u001b[0;34m'~/Dropbox/Classes/CS 109A/CS 109A Final project/data/Socio-economicData'\u001b[0m\u001b[0;34m)\u001b[0m\u001b[0;34m\u001b[0m\u001b[0m\n\u001b[0m",
      "\u001b[0;31mFileNotFoundError\u001b[0m: [Errno 2] No such file or directory: '~/Dropbox/Classes/CS 109A/CS 109A Final project/data/Socio-economicData'"
     ]
    }
   ],
   "source": [
    "os.listdir('~/Dropbox/Classes/CS 109A/CS 109A Final project/data/Socio-economicData')"
   ]
  },
  {
   "cell_type": "code",
   "execution_count": 4,
   "metadata": {
    "scrolled": false
   },
   "outputs": [
    {
     "ename": "FileNotFoundError",
     "evalue": "[Errno 2] No such file or directory: '~/Dropbox/Classes/CS 109A/CS 109A Final project/data/Socio-economicData'",
     "output_type": "error",
     "traceback": [
      "\u001b[0;31m---------------------------------------------------------------------------\u001b[0m",
      "\u001b[0;31mFileNotFoundError\u001b[0m                         Traceback (most recent call last)",
      "\u001b[0;32m<ipython-input-4-a21dddd44cf1>\u001b[0m in \u001b[0;36m<module>\u001b[0;34m()\u001b[0m\n\u001b[1;32m     11\u001b[0m \u001b[0mstatename\u001b[0m\u001b[0;34m=\u001b[0m\u001b[0;34m[\u001b[0m\u001b[0;34m]\u001b[0m\u001b[0;34m\u001b[0m\u001b[0m\n\u001b[1;32m     12\u001b[0m \u001b[0;34m\u001b[0m\u001b[0m\n\u001b[0;32m---> 13\u001b[0;31m \u001b[0;32mfor\u001b[0m \u001b[0mf\u001b[0m \u001b[0;32min\u001b[0m \u001b[0mos\u001b[0m\u001b[0;34m.\u001b[0m\u001b[0mlistdir\u001b[0m\u001b[0;34m(\u001b[0m\u001b[0;34m'~/Dropbox/Classes/CS 109A/CS 109A Final project/data/Socio-economicData'\u001b[0m\u001b[0;34m)\u001b[0m\u001b[0;34m:\u001b[0m\u001b[0;34m\u001b[0m\u001b[0m\n\u001b[0m\u001b[1;32m     14\u001b[0m     \u001b[0;32mif\u001b[0m \u001b[0mf\u001b[0m\u001b[0;34m.\u001b[0m\u001b[0mendswith\u001b[0m\u001b[0;34m(\u001b[0m\u001b[0;34m'.csv'\u001b[0m\u001b[0;34m)\u001b[0m\u001b[0;34m:\u001b[0m\u001b[0;34m\u001b[0m\u001b[0m\n\u001b[1;32m     15\u001b[0m         \u001b[0mdf\u001b[0m\u001b[0;34m=\u001b[0m\u001b[0mpd\u001b[0m\u001b[0;34m.\u001b[0m\u001b[0mDataFrame\u001b[0m\u001b[0;34m(\u001b[0m\u001b[0mpd\u001b[0m\u001b[0;34m.\u001b[0m\u001b[0mread_csv\u001b[0m\u001b[0;34m(\u001b[0m\u001b[0mf\u001b[0m\u001b[0;34m)\u001b[0m\u001b[0;34m)\u001b[0m\u001b[0;34m\u001b[0m\u001b[0m\n",
      "\u001b[0;31mFileNotFoundError\u001b[0m: [Errno 2] No such file or directory: '~/Dropbox/Classes/CS 109A/CS 109A Final project/data/Socio-economicData'"
     ]
    }
   ],
   "source": [
    "medianage=[]\n",
    "unemprate=[]\n",
    "medianhhincome=[]\n",
    "bachdegree=[]\n",
    "blackpop=[]\n",
    "asianpop=[]\n",
    "hispanicpop=[]\n",
    "totalpop=[]\n",
    "filename=[]\n",
    "num_districts=[]\n",
    "statename=[]\n",
    "\n",
    "for f in os.listdir('~/Dropbox/Classes/CS 109A/CS 109A Final project/data/Socio-economicData'):\n",
    "    if f.endswith('.csv'):\n",
    "        df=pd.DataFrame(pd.read_csv(f))\n",
    "        a1=np.transpose(df.iloc[medage_csv,3:len(df):2]) #Median age data from csv\n",
    "        a2=np.transpose(df.iloc[unemprate_csv,3:len(df):2])  #Unemployment rate data from csv\n",
    "        a3=np.transpose(df.iloc[medhhincome_csv,3:len(df):2])  #Median household income data from csv\n",
    "        a4=np.transpose(df.iloc[bachdeg_csv,3:len(df):2])  # bachelors degree or higher (percent) data from csv\n",
    "        a5=np.transpose(df.iloc[black_csv,3:len(df):2]) #Black population\n",
    "        a6=np.transpose(df.iloc[asian_csv,3:len(df):2]) #Asian population\n",
    "        a7=np.transpose(df.iloc[hispanic_csv,3:len(df):2]) #Hispanic population\n",
    "        totpop=np.transpose(df.iloc[totpop_csv,3:len(df):2]) #Total population\n",
    "        \n",
    "        #Index should be in the form statename_district#\n",
    "        sname=f.split('_')[0]\n",
    "        a1.index=[sname+'_'+a1.index[i].split()[1] for i in range(len(a1))]\n",
    "        a2.index=[sname+'_'+a2.index[i].split()[1] for i in range(len(a2))]\n",
    "        a3.index=[sname+'_'+a3.index[i].split()[1] for i in range(len(a3))]\n",
    "        a4.index=[sname+'_'+a4.index[i].split()[1] for i in range(len(a4))]\n",
    "        a5.index=[sname+'_'+a5.index[i].split()[1] for i in range(len(a5))]\n",
    "        a6.index=[sname+'_'+a6.index[i].split()[1] for i in range(len(a6))]\n",
    "        a7.index=[sname+'_'+a7.index[i].split()[1] for i in range(len(a7))]\n",
    "        totpop.index=[sname+'_'+totpop.index[i].split()[1] for i in range(len(totpop))]\n",
    "        \n",
    "        #Create a list of district level data\n",
    "        medianage.append(a1)\n",
    "        unemprate.append(a2)\n",
    "        medianhhincome.append(a3)\n",
    "        bachdegree.append(a4)\n",
    "        blackpop.append(a5)\n",
    "        asianpop.append(a6)\n",
    "        hispanicpop.append(a7)\n",
    "        totalpop.append(totpop)  \n",
    "        filename.append(f)\n",
    "        num_districts.append(len(a1))\n",
    "        statename.append(f.partition('_District')[0].replace(\"_\",\" \"))"
   ]
  },
  {
   "cell_type": "code",
   "execution_count": 796,
   "metadata": {},
   "outputs": [],
   "source": [
    "assert len(unemprate)==len(medianage) == len(medianhhincome) == len(bachdegree)"
   ]
  },
  {
   "cell_type": "code",
   "execution_count": 797,
   "metadata": {},
   "outputs": [],
   "source": [
    "med_age_df=pd.DataFrame(medianage[0])\n",
    "unemp_rate_df=pd.DataFrame(unemprate[0])\n",
    "med_hh_income_df=pd.DataFrame(medianhhincome[0])\n",
    "bach_degree_df=pd.DataFrame(bachdegree[0])\n",
    "blackpop_df= pd.DataFrame(blackpop[0])\n",
    "asianpop_df= pd.DataFrame(asianpop[0])\n",
    "hispanicpop_df= pd.DataFrame(hispanicpop[0])\n",
    "totpop_df= pd.DataFrame(totalpop[0])\n",
    "                        \n",
    "for i in range(1,len(medianage)):\n",
    "    med_age_df=pd.concat([med_age_df, pd.DataFrame(medianage[i])],axis=0)\n",
    "    unemp_rate_df=pd.concat([unemp_rate_df, pd.DataFrame(unemprate[i])],axis=0)\n",
    "    med_hh_income_df=pd.concat([med_hh_income_df, pd.DataFrame(medianhhincome[i])],axis=0)\n",
    "    bach_degree_df=pd.concat([bach_degree_df, pd.DataFrame(bachdegree[i])],axis=0)\n",
    "    blackpop_df=pd.concat([blackpop_df, pd.DataFrame(blackpop[i])],axis=0)\n",
    "    asianpop_df=pd.concat([asianpop_df, pd.DataFrame(asianpop[i])],axis=0)\n",
    "    hispanicpop_df=pd.concat([hispanicpop_df, pd.DataFrame(hispanicpop[i])],axis=0)\n",
    "    totpop_df=pd.concat([totpop_df, pd.DataFrame(totalpop[i])],axis=0)\n",
    "    "
   ]
  },
  {
   "cell_type": "code",
   "execution_count": 798,
   "metadata": {},
   "outputs": [
    {
     "name": "stdout",
     "output_type": "stream",
     "text": [
      "Total number of districts is: 435\n"
     ]
    }
   ],
   "source": [
    "print(\"Total number of districts is: {}\".format(np.sum(num_districts)))"
   ]
  },
  {
   "cell_type": "code",
   "execution_count": 799,
   "metadata": {},
   "outputs": [],
   "source": [
    "new_state_list=[]\n",
    "\n",
    "for i in range(len(statename)):\n",
    "    new_state_list.append([str(statename[i])]*len(medianage[i]))\n",
    "\n",
    "new_state_list_df=pd.DataFrame(new_state_list[0])\n",
    "\n",
    "for i in range(1,len(new_state_list)):\n",
    "    new_state_list_df=pd.concat([new_state_list_df, pd.DataFrame(new_state_list[i])],axis=0)"
   ]
  },
  {
   "cell_type": "code",
   "execution_count": 814,
   "metadata": {},
   "outputs": [],
   "source": [
    "df_list=[unemp_rate_df,med_hh_income_df,bach_degree_df, blackpop_df,asianpop_df,hispanicpop_df,totpop_df]\n",
    "df_new= med_age_df\n",
    "for i in df_list:\n",
    "    df_new=pd.merge(df_new, i, left_index=True, right_index=True)\n",
    "\n",
    "df_new.columns=['Median_Age','Unemployment_Rate','Median_HH_Income','Percent_BachDegree',\n",
    "'Black','Asian','Hispanic','TotalPop']"
   ]
  },
  {
   "cell_type": "code",
   "execution_count": 811,
   "metadata": {},
   "outputs": [],
   "source": [
    "df_new=df_new.drop_duplicates(subset=['Black'])"
   ]
  },
  {
   "cell_type": "code",
   "execution_count": 818,
   "metadata": {},
   "outputs": [
    {
     "data": {
      "text/plain": [
       "Alabama_01       False\n",
       "Alabama_02       False\n",
       "Alabama_03       False\n",
       "Alabama_04       False\n",
       "Alabama_05       False\n",
       "Alabama_06       False\n",
       "Alabama_07       False\n",
       "Alaska_(At       False\n",
       "Arizona_01       False\n",
       "Arizona_02       False\n",
       "Arizona_03       False\n",
       "Arizona_04       False\n",
       "Arizona_05       False\n",
       "Arizona_06       False\n",
       "Arizona_07       False\n",
       "Arizona_08       False\n",
       "Arizona_09       False\n",
       "Arkansas_01      False\n",
       "Arkansas_02      False\n",
       "Arkansas_03      False\n",
       "Arkansas_04      False\n",
       "California_01    False\n",
       "California_02    False\n",
       "California_03    False\n",
       "California_04    False\n",
       "California_05    False\n",
       "California_06    False\n",
       "California_07    False\n",
       "California_08    False\n",
       "California_09    False\n",
       "                 ...  \n",
       "Virginia_04      False\n",
       "Virginia_05      False\n",
       "Virginia_06      False\n",
       "Virginia_07      False\n",
       "Virginia_08      False\n",
       "Virginia_09      False\n",
       "Virginia_10      False\n",
       "Virginia_11      False\n",
       "Washington_01    False\n",
       "Washington_02    False\n",
       "Washington_03    False\n",
       "Washington_04    False\n",
       "Washington_05    False\n",
       "Washington_06    False\n",
       "Washington_07    False\n",
       "Washington_08    False\n",
       "Washington_09    False\n",
       "Washington_10    False\n",
       "West_01          False\n",
       "West_02          False\n",
       "West_03          False\n",
       "Wisconsin_01     False\n",
       "Wisconsin_02     False\n",
       "Wisconsin_03     False\n",
       "Wisconsin_04     False\n",
       "Wisconsin_05     False\n",
       "Wisconsin_06     False\n",
       "Wisconsin_07     False\n",
       "Wisconsin_08     False\n",
       "Wyoming_(At      False\n",
       "Length: 140343, dtype: bool"
      ]
     },
     "execution_count": 818,
     "metadata": {},
     "output_type": "execute_result"
    }
   ],
   "source": [
    "df_new.duplicated(subset='Black') == True"
   ]
  },
  {
   "cell_type": "code",
   "execution_count": 658,
   "metadata": {
    "scrolled": true
   },
   "outputs": [
    {
     "data": {
      "text/html": [
       "<div>\n",
       "<style scoped>\n",
       "    .dataframe tbody tr th:only-of-type {\n",
       "        vertical-align: middle;\n",
       "    }\n",
       "\n",
       "    .dataframe tbody tr th {\n",
       "        vertical-align: top;\n",
       "    }\n",
       "\n",
       "    .dataframe thead th {\n",
       "        text-align: right;\n",
       "    }\n",
       "</style>\n",
       "<table border=\"1\" class=\"dataframe\">\n",
       "  <thead>\n",
       "    <tr style=\"text-align: right;\">\n",
       "      <th></th>\n",
       "      <th>Median_Age</th>\n",
       "      <th>Unemployment_Rate</th>\n",
       "      <th>Median_HH_Income</th>\n",
       "      <th>Percent_BachDegree</th>\n",
       "      <th>Black</th>\n",
       "      <th>Asian</th>\n",
       "      <th>Hispanic</th>\n",
       "      <th>TotalPop</th>\n",
       "    </tr>\n",
       "  </thead>\n",
       "  <tbody>\n",
       "    <tr>\n",
       "      <th>Alabama_01</th>\n",
       "      <td>40.0</td>\n",
       "      <td>5.8</td>\n",
       "      <td>9430.0</td>\n",
       "      <td>25.0</td>\n",
       "      <td>198799.0</td>\n",
       "      <td>10717.0</td>\n",
       "      <td>21976.0</td>\n",
       "      <td>713410.0</td>\n",
       "    </tr>\n",
       "    <tr>\n",
       "      <th>Alabama_02</th>\n",
       "      <td>38.5</td>\n",
       "      <td>6.2</td>\n",
       "      <td>7824.0</td>\n",
       "      <td>23.1</td>\n",
       "      <td>207087.0</td>\n",
       "      <td>7686.0</td>\n",
       "      <td>24457.0</td>\n",
       "      <td>673776.0</td>\n",
       "    </tr>\n",
       "    <tr>\n",
       "      <th>Alabama_03</th>\n",
       "      <td>38.1</td>\n",
       "      <td>5.3</td>\n",
       "      <td>9757.0</td>\n",
       "      <td>21.7</td>\n",
       "      <td>187176.0</td>\n",
       "      <td>11727.0</td>\n",
       "      <td>20464.0</td>\n",
       "      <td>710488.0</td>\n",
       "    </tr>\n",
       "    <tr>\n",
       "      <th>Alabama_04</th>\n",
       "      <td>40.7</td>\n",
       "      <td>6.0</td>\n",
       "      <td>7358.0</td>\n",
       "      <td>17.9</td>\n",
       "      <td>49177.0</td>\n",
       "      <td>3863.0</td>\n",
       "      <td>45965.0</td>\n",
       "      <td>685553.0</td>\n",
       "    </tr>\n",
       "    <tr>\n",
       "      <th>Alabama_05</th>\n",
       "      <td>39.5</td>\n",
       "      <td>4.7</td>\n",
       "      <td>14764.0</td>\n",
       "      <td>31.9</td>\n",
       "      <td>129234.0</td>\n",
       "      <td>12993.0</td>\n",
       "      <td>37350.0</td>\n",
       "      <td>718713.0</td>\n",
       "    </tr>\n",
       "  </tbody>\n",
       "</table>\n",
       "</div>"
      ],
      "text/plain": [
       "            Median_Age  Unemployment_Rate  Median_HH_Income  \\\n",
       "Alabama_01        40.0                5.8            9430.0   \n",
       "Alabama_02        38.5                6.2            7824.0   \n",
       "Alabama_03        38.1                5.3            9757.0   \n",
       "Alabama_04        40.7                6.0            7358.0   \n",
       "Alabama_05        39.5                4.7           14764.0   \n",
       "\n",
       "            Percent_BachDegree     Black    Asian  Hispanic  TotalPop  \n",
       "Alabama_01                25.0  198799.0  10717.0   21976.0  713410.0  \n",
       "Alabama_02                23.1  207087.0   7686.0   24457.0  673776.0  \n",
       "Alabama_03                21.7  187176.0  11727.0   20464.0  710488.0  \n",
       "Alabama_04                17.9   49177.0   3863.0   45965.0  685553.0  \n",
       "Alabama_05                31.9  129234.0  12993.0   37350.0  718713.0  "
      ]
     },
     "execution_count": 658,
     "metadata": {},
     "output_type": "execute_result"
    }
   ],
   "source": [
    "df_new=df_new.astype(float)\n",
    "df_new.head()"
   ]
  },
  {
   "cell_type": "code",
   "execution_count": 686,
   "metadata": {},
   "outputs": [],
   "source": [
    "df_data=df_new.copy()\n",
    "df_data=df_data.astype(float)"
   ]
  },
  {
   "cell_type": "code",
   "execution_count": 687,
   "metadata": {},
   "outputs": [],
   "source": [
    "df_data['Black']=df_new['Black']/df_new['TotalPop']*100\n",
    "df_data['Asian']=df_new['Asian']/df_new['TotalPop']*100\n",
    "df_data['Hispanic']=df_new['Hispanic']/df_new['TotalPop']*100\n",
    "df_data=df_data.drop(['TotalPop'], axis=1)"
   ]
  },
  {
   "cell_type": "code",
   "execution_count": 693,
   "metadata": {},
   "outputs": [
    {
     "data": {
      "text/html": [
       "<div>\n",
       "<style scoped>\n",
       "    .dataframe tbody tr th:only-of-type {\n",
       "        vertical-align: middle;\n",
       "    }\n",
       "\n",
       "    .dataframe tbody tr th {\n",
       "        vertical-align: top;\n",
       "    }\n",
       "\n",
       "    .dataframe thead th {\n",
       "        text-align: right;\n",
       "    }\n",
       "</style>\n",
       "<table border=\"1\" class=\"dataframe\">\n",
       "  <thead>\n",
       "    <tr style=\"text-align: right;\">\n",
       "      <th></th>\n",
       "      <th>Median_Age</th>\n",
       "      <th>Unemployment_Rate</th>\n",
       "      <th>Median_HH_Income</th>\n",
       "      <th>Percent_BachDegree</th>\n",
       "      <th>Black</th>\n",
       "      <th>Asian</th>\n",
       "      <th>Hispanic</th>\n",
       "      <th>Label</th>\n",
       "    </tr>\n",
       "  </thead>\n",
       "  <tbody>\n",
       "    <tr>\n",
       "      <th>0</th>\n",
       "      <td>40.0</td>\n",
       "      <td>5.8</td>\n",
       "      <td>9430.0</td>\n",
       "      <td>25.0</td>\n",
       "      <td>27.866024</td>\n",
       "      <td>1.502222</td>\n",
       "      <td>3.080417</td>\n",
       "      <td>Alabama_01</td>\n",
       "    </tr>\n",
       "    <tr>\n",
       "      <th>1</th>\n",
       "      <td>38.5</td>\n",
       "      <td>6.2</td>\n",
       "      <td>7824.0</td>\n",
       "      <td>23.1</td>\n",
       "      <td>30.735289</td>\n",
       "      <td>1.140735</td>\n",
       "      <td>3.629841</td>\n",
       "      <td>Alabama_02</td>\n",
       "    </tr>\n",
       "    <tr>\n",
       "      <th>2</th>\n",
       "      <td>38.1</td>\n",
       "      <td>5.3</td>\n",
       "      <td>9757.0</td>\n",
       "      <td>21.7</td>\n",
       "      <td>26.344710</td>\n",
       "      <td>1.650556</td>\n",
       "      <td>2.880274</td>\n",
       "      <td>Alabama_03</td>\n",
       "    </tr>\n",
       "    <tr>\n",
       "      <th>3</th>\n",
       "      <td>40.7</td>\n",
       "      <td>6.0</td>\n",
       "      <td>7358.0</td>\n",
       "      <td>17.9</td>\n",
       "      <td>7.173333</td>\n",
       "      <td>0.563487</td>\n",
       "      <td>6.704806</td>\n",
       "      <td>Alabama_04</td>\n",
       "    </tr>\n",
       "    <tr>\n",
       "      <th>4</th>\n",
       "      <td>39.5</td>\n",
       "      <td>4.7</td>\n",
       "      <td>14764.0</td>\n",
       "      <td>31.9</td>\n",
       "      <td>17.981308</td>\n",
       "      <td>1.807815</td>\n",
       "      <td>5.196789</td>\n",
       "      <td>Alabama_05</td>\n",
       "    </tr>\n",
       "  </tbody>\n",
       "</table>\n",
       "</div>"
      ],
      "text/plain": [
       "   Median_Age  Unemployment_Rate  Median_HH_Income  Percent_BachDegree  \\\n",
       "0        40.0                5.8            9430.0                25.0   \n",
       "1        38.5                6.2            7824.0                23.1   \n",
       "2        38.1                5.3            9757.0                21.7   \n",
       "3        40.7                6.0            7358.0                17.9   \n",
       "4        39.5                4.7           14764.0                31.9   \n",
       "\n",
       "       Black     Asian  Hispanic       Label  \n",
       "0  27.866024  1.502222  3.080417  Alabama_01  \n",
       "1  30.735289  1.140735  3.629841  Alabama_02  \n",
       "2  26.344710  1.650556  2.880274  Alabama_03  \n",
       "3   7.173333  0.563487  6.704806  Alabama_04  \n",
       "4  17.981308  1.807815  5.196789  Alabama_05  "
      ]
     },
     "execution_count": 693,
     "metadata": {},
     "output_type": "execute_result"
    }
   ],
   "source": [
    "df_data['Label']=df_data.index\n",
    "df_data=df_data.reset_index(drop=True)"
   ]
  },
  {
   "cell_type": "code",
   "execution_count": 710,
   "metadata": {},
   "outputs": [],
   "source": [
    "new_state_list_df=new_state_list_df.reset_index(drop=True)\n",
    "new_state_list_df.columns = ['StateName']\n",
    "df_data=pd.concat([df_data,new_state_list_df],axis=1)"
   ]
  },
  {
   "cell_type": "code",
   "execution_count": 795,
   "metadata": {},
   "outputs": [],
   "source": [
    "# print(\"# of districts \\t State\")\n",
    "# print(\"----------------|-----------\")\n",
    "# for i in range(len(num_districts)):\n",
    "#     print(num_districts[i], \"\\t\\t|\", statename[i])"
   ]
  },
  {
   "cell_type": "code",
   "execution_count": 698,
   "metadata": {},
   "outputs": [],
   "source": [
    "state_abbs = pd.read_csv(\"/Users/poojatyagi/Dropbox (MIT)/CS109_project_data/Usefuldata/state_abbreviations_correspondence_table.csv\"\n",
    "                         , sep = \"\\t\")"
   ]
  },
  {
   "cell_type": "code",
   "execution_count": 756,
   "metadata": {},
   "outputs": [],
   "source": [
    "StateAbb=[None] * len(df_data)\n",
    "for j in range(len(df_data)):\n",
    "    for i in range(len(state_abbs)):\n",
    "        if (df_data['StateName'][j]==  state_abbs.iloc[i,0]):\n",
    "            StateAbb[j]=state_abbs.iloc[i,1]\n",
    "\n",
    "df_data['StateAbb'] = StateAbb\n",
    "df_data=df_data.drop(['Label'], axis=1)"
   ]
  },
  {
   "cell_type": "code",
   "execution_count": 764,
   "metadata": {},
   "outputs": [
    {
     "data": {
      "text/html": [
       "<div>\n",
       "<style scoped>\n",
       "    .dataframe tbody tr th:only-of-type {\n",
       "        vertical-align: middle;\n",
       "    }\n",
       "\n",
       "    .dataframe tbody tr th {\n",
       "        vertical-align: top;\n",
       "    }\n",
       "\n",
       "    .dataframe thead th {\n",
       "        text-align: right;\n",
       "    }\n",
       "</style>\n",
       "<table border=\"1\" class=\"dataframe\">\n",
       "  <thead>\n",
       "    <tr style=\"text-align: right;\">\n",
       "      <th></th>\n",
       "      <th>Median_Age</th>\n",
       "      <th>Unemployment_Rate</th>\n",
       "      <th>Median_HH_Income</th>\n",
       "      <th>Percent_BachDegree</th>\n",
       "      <th>Black</th>\n",
       "      <th>Asian</th>\n",
       "      <th>Hispanic</th>\n",
       "      <th>0</th>\n",
       "      <th>StateName</th>\n",
       "      <th>StateAbb</th>\n",
       "    </tr>\n",
       "  </thead>\n",
       "  <tbody>\n",
       "    <tr>\n",
       "      <th>0</th>\n",
       "      <td>40.0</td>\n",
       "      <td>5.8</td>\n",
       "      <td>9430.0</td>\n",
       "      <td>25.0</td>\n",
       "      <td>27.866024</td>\n",
       "      <td>1.502222</td>\n",
       "      <td>3.080417</td>\n",
       "      <td>Alabama</td>\n",
       "      <td>Alabama</td>\n",
       "      <td>AL</td>\n",
       "    </tr>\n",
       "    <tr>\n",
       "      <th>1</th>\n",
       "      <td>38.5</td>\n",
       "      <td>6.2</td>\n",
       "      <td>7824.0</td>\n",
       "      <td>23.1</td>\n",
       "      <td>30.735289</td>\n",
       "      <td>1.140735</td>\n",
       "      <td>3.629841</td>\n",
       "      <td>Alabama</td>\n",
       "      <td>Alabama</td>\n",
       "      <td>AL</td>\n",
       "    </tr>\n",
       "    <tr>\n",
       "      <th>2</th>\n",
       "      <td>38.1</td>\n",
       "      <td>5.3</td>\n",
       "      <td>9757.0</td>\n",
       "      <td>21.7</td>\n",
       "      <td>26.344710</td>\n",
       "      <td>1.650556</td>\n",
       "      <td>2.880274</td>\n",
       "      <td>Alabama</td>\n",
       "      <td>Alabama</td>\n",
       "      <td>AL</td>\n",
       "    </tr>\n",
       "    <tr>\n",
       "      <th>3</th>\n",
       "      <td>40.7</td>\n",
       "      <td>6.0</td>\n",
       "      <td>7358.0</td>\n",
       "      <td>17.9</td>\n",
       "      <td>7.173333</td>\n",
       "      <td>0.563487</td>\n",
       "      <td>6.704806</td>\n",
       "      <td>Alabama</td>\n",
       "      <td>Alabama</td>\n",
       "      <td>AL</td>\n",
       "    </tr>\n",
       "    <tr>\n",
       "      <th>4</th>\n",
       "      <td>39.5</td>\n",
       "      <td>4.7</td>\n",
       "      <td>14764.0</td>\n",
       "      <td>31.9</td>\n",
       "      <td>17.981308</td>\n",
       "      <td>1.807815</td>\n",
       "      <td>5.196789</td>\n",
       "      <td>Alabama</td>\n",
       "      <td>Alabama</td>\n",
       "      <td>AL</td>\n",
       "    </tr>\n",
       "  </tbody>\n",
       "</table>\n",
       "</div>"
      ],
      "text/plain": [
       "   Median_Age  Unemployment_Rate  Median_HH_Income  Percent_BachDegree  \\\n",
       "0        40.0                5.8            9430.0                25.0   \n",
       "1        38.5                6.2            7824.0                23.1   \n",
       "2        38.1                5.3            9757.0                21.7   \n",
       "3        40.7                6.0            7358.0                17.9   \n",
       "4        39.5                4.7           14764.0                31.9   \n",
       "\n",
       "       Black     Asian  Hispanic        0 StateName StateAbb  \n",
       "0  27.866024  1.502222  3.080417  Alabama   Alabama       AL  \n",
       "1  30.735289  1.140735  3.629841  Alabama   Alabama       AL  \n",
       "2  26.344710  1.650556  2.880274  Alabama   Alabama       AL  \n",
       "3   7.173333  0.563487  6.704806  Alabama   Alabama       AL  \n",
       "4  17.981308  1.807815  5.196789  Alabama   Alabama       AL  "
      ]
     },
     "execution_count": 764,
     "metadata": {},
     "output_type": "execute_result"
    }
   ],
   "source": [
    "df_data.head()"
   ]
  }
 ],
 "metadata": {
  "kernelspec": {
   "display_name": "Python 3",
   "language": "python",
   "name": "python3"
  },
  "language_info": {
   "codemirror_mode": {
    "name": "ipython",
    "version": 3
   },
   "file_extension": ".py",
   "mimetype": "text/x-python",
   "name": "python",
   "nbconvert_exporter": "python",
   "pygments_lexer": "ipython3",
   "version": "3.6.5"
  }
 },
 "nbformat": 4,
 "nbformat_minor": 2
}
