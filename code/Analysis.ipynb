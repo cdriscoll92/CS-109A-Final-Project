{
 "cells": [
  {
   "cell_type": "markdown",
   "metadata": {},
   "source": [
    "# Data Analysis"
   ]
  },
  {
   "cell_type": "code",
   "execution_count": 3,
   "metadata": {},
   "outputs": [
    {
     "name": "stderr",
     "output_type": "stream",
     "text": [
      "/anaconda3/lib/python3.6/site-packages/sklearn/cross_validation.py:41: DeprecationWarning: This module was deprecated in version 0.18 in favor of the model_selection module into which all the refactored classes and functions are moved. Also note that the interface of the new CV iterators are different from that of this module. This module will be removed in 0.20.\n",
      "  \"This module will be removed in 0.20.\", DeprecationWarning)\n"
     ]
    }
   ],
   "source": [
    "import numpy as np\n",
    "import pandas as pd\n",
    "import re\n",
    "import matplotlib.pyplot as plt\n",
    "%matplotlib inline\n",
    "from sklearn.preprocessing import MinMaxScaler\n",
    "from sklearn.linear_model import LogisticRegression\n",
    "from sklearn.cross_validation import train_test_split\n",
    "import itertools"
   ]
  },
  {
   "cell_type": "code",
   "execution_count": 4,
   "metadata": {},
   "outputs": [],
   "source": [
    "data_folder = \"https://raw.githubusercontent.com/cdriscoll92/CS-109A-Final-Project/master/data/\"\n",
    "# local_data_folder = '/Users/poojatyagi/Dropbox (MIT)/CS 109A Final project/Data'\n",
    "local_data_folder = \"/Users/colleendriscoll/Dropbox/Classes/CS 109A/CS 109A Final project/data/\""
   ]
  },
  {
   "cell_type": "code",
   "execution_count": 5,
   "metadata": {},
   "outputs": [
    {
     "data": {
      "text/html": [
       "<div>\n",
       "<style scoped>\n",
       "    .dataframe tbody tr th:only-of-type {\n",
       "        vertical-align: middle;\n",
       "    }\n",
       "\n",
       "    .dataframe tbody tr th {\n",
       "        vertical-align: top;\n",
       "    }\n",
       "\n",
       "    .dataframe thead th {\n",
       "        text-align: right;\n",
       "    }\n",
       "</style>\n",
       "<table border=\"1\" class=\"dataframe\">\n",
       "  <thead>\n",
       "    <tr style=\"text-align: right;\">\n",
       "      <th></th>\n",
       "      <th>year</th>\n",
       "      <th>dist_id</th>\n",
       "      <th>dem_vote_share</th>\n",
       "      <th>dem_vote_share_2018</th>\n",
       "      <th>dem_won_2018</th>\n",
       "      <th>congress</th>\n",
       "      <th>icpsr</th>\n",
       "      <th>nominate_dim1</th>\n",
       "      <th>nominate_dim2</th>\n",
       "      <th>nokken_poole_dim1</th>\n",
       "      <th>nokken_poole_dim2</th>\n",
       "      <th>age</th>\n",
       "      <th>dem_incumbent</th>\n",
       "      <th>unemployment</th>\n",
       "    </tr>\n",
       "  </thead>\n",
       "  <tbody>\n",
       "    <tr>\n",
       "      <th>0</th>\n",
       "      <td>1980</td>\n",
       "      <td>AK_1</td>\n",
       "      <td>0.259215</td>\n",
       "      <td>0.458323</td>\n",
       "      <td>0.0</td>\n",
       "      <td>96.0</td>\n",
       "      <td>14066.0</td>\n",
       "      <td>0.279</td>\n",
       "      <td>0.014</td>\n",
       "      <td>0.220</td>\n",
       "      <td>0.171</td>\n",
       "      <td>47.0</td>\n",
       "      <td>0</td>\n",
       "      <td>NaN</td>\n",
       "    </tr>\n",
       "    <tr>\n",
       "      <th>1</th>\n",
       "      <td>1982</td>\n",
       "      <td>AK_1</td>\n",
       "      <td>0.288493</td>\n",
       "      <td>0.458323</td>\n",
       "      <td>0.0</td>\n",
       "      <td>97.0</td>\n",
       "      <td>14066.0</td>\n",
       "      <td>0.279</td>\n",
       "      <td>0.014</td>\n",
       "      <td>0.249</td>\n",
       "      <td>-0.220</td>\n",
       "      <td>49.0</td>\n",
       "      <td>0</td>\n",
       "      <td>NaN</td>\n",
       "    </tr>\n",
       "    <tr>\n",
       "      <th>2</th>\n",
       "      <td>1984</td>\n",
       "      <td>AK_1</td>\n",
       "      <td>0.431049</td>\n",
       "      <td>0.458323</td>\n",
       "      <td>0.0</td>\n",
       "      <td>98.0</td>\n",
       "      <td>14066.0</td>\n",
       "      <td>0.279</td>\n",
       "      <td>0.014</td>\n",
       "      <td>0.216</td>\n",
       "      <td>-0.301</td>\n",
       "      <td>51.0</td>\n",
       "      <td>0</td>\n",
       "      <td>NaN</td>\n",
       "    </tr>\n",
       "    <tr>\n",
       "      <th>3</th>\n",
       "      <td>1986</td>\n",
       "      <td>AK_1</td>\n",
       "      <td>0.421110</td>\n",
       "      <td>0.458323</td>\n",
       "      <td>0.0</td>\n",
       "      <td>99.0</td>\n",
       "      <td>14066.0</td>\n",
       "      <td>0.279</td>\n",
       "      <td>0.014</td>\n",
       "      <td>0.196</td>\n",
       "      <td>-0.298</td>\n",
       "      <td>53.0</td>\n",
       "      <td>0</td>\n",
       "      <td>NaN</td>\n",
       "    </tr>\n",
       "    <tr>\n",
       "      <th>4</th>\n",
       "      <td>1988</td>\n",
       "      <td>AK_1</td>\n",
       "      <td>0.373454</td>\n",
       "      <td>0.458323</td>\n",
       "      <td>0.0</td>\n",
       "      <td>100.0</td>\n",
       "      <td>14066.0</td>\n",
       "      <td>0.279</td>\n",
       "      <td>0.014</td>\n",
       "      <td>0.212</td>\n",
       "      <td>-0.410</td>\n",
       "      <td>55.0</td>\n",
       "      <td>0</td>\n",
       "      <td>NaN</td>\n",
       "    </tr>\n",
       "  </tbody>\n",
       "</table>\n",
       "</div>"
      ],
      "text/plain": [
       "   year dist_id  dem_vote_share  dem_vote_share_2018  dem_won_2018  congress  \\\n",
       "0  1980    AK_1        0.259215             0.458323           0.0      96.0   \n",
       "1  1982    AK_1        0.288493             0.458323           0.0      97.0   \n",
       "2  1984    AK_1        0.431049             0.458323           0.0      98.0   \n",
       "3  1986    AK_1        0.421110             0.458323           0.0      99.0   \n",
       "4  1988    AK_1        0.373454             0.458323           0.0     100.0   \n",
       "\n",
       "     icpsr  nominate_dim1  nominate_dim2  nokken_poole_dim1  \\\n",
       "0  14066.0          0.279          0.014              0.220   \n",
       "1  14066.0          0.279          0.014              0.249   \n",
       "2  14066.0          0.279          0.014              0.216   \n",
       "3  14066.0          0.279          0.014              0.196   \n",
       "4  14066.0          0.279          0.014              0.212   \n",
       "\n",
       "   nokken_poole_dim2   age  dem_incumbent  unemployment  \n",
       "0              0.171  47.0              0           NaN  \n",
       "1             -0.220  49.0              0           NaN  \n",
       "2             -0.301  51.0              0           NaN  \n",
       "3             -0.298  53.0              0           NaN  \n",
       "4             -0.410  55.0              0           NaN  "
      ]
     },
     "execution_count": 5,
     "metadata": {},
     "output_type": "execute_result"
    }
   ],
   "source": [
    "combined_data = pd.read_csv(local_data_folder + \"combined_data.csv\")\n",
    "combined_data[:5]"
   ]
  },
  {
   "cell_type": "markdown",
   "metadata": {},
   "source": [
    "## Baseline model\n",
    "Mathematically, this is: $P(D_{win} =1) = (1+e^{-\\beta X + c})^{-1}$, where $\\beta$ is composed of the combined results of each election between 1980 and 2016."
   ]
  },
  {
   "cell_type": "code",
   "execution_count": 6,
   "metadata": {},
   "outputs": [],
   "source": [
    "## Dropping unnecessary columns\n",
    "cols_to_drop_for_train = ['dist_id', 'congress', 'icpsr']\n",
    "\n",
    "# Fit logistic regression on training data \n",
    "data_to_fit_base = combined_data.drop(cols_to_drop_for_train,\n",
    "                                      axis = 1,\n",
    "                                      inplace = False)\n",
    "data_to_fit_base = data_to_fit_base.dropna(inplace = False)\n",
    "dem_vote_share_2018 = data_to_fit_base['dem_vote_share_2018'].values"
   ]
  },
  {
   "cell_type": "code",
   "execution_count": 7,
   "metadata": {
    "scrolled": false
   },
   "outputs": [],
   "source": [
    "## TRAINING SETS\n",
    "\n",
    "\n",
    "x_train = data_to_fit_base\n",
    "y_train = x_train.dem_won_2018.values\n",
    "\n"
   ]
  },
  {
   "cell_type": "code",
   "execution_count": 8,
   "metadata": {},
   "outputs": [
    {
     "data": {
      "text/plain": [
       "LogisticRegression(C=100000, class_weight=None, dual=False,\n",
       "          fit_intercept=True, intercept_scaling=1, max_iter=100,\n",
       "          multi_class='ovr', n_jobs=1, penalty='l2', random_state=None,\n",
       "          solver='liblinear', tol=0.0001, verbose=0, warm_start=False)"
      ]
     },
     "execution_count": 8,
     "metadata": {},
     "output_type": "execute_result"
    }
   ],
   "source": [
    "logreg_base = LogisticRegression(C=100000)\n",
    "logreg_base.fit(x_train.dem_vote_share.values.reshape(-1, 1),\n",
    "            y_train)"
   ]
  },
  {
   "cell_type": "code",
   "execution_count": 9,
   "metadata": {},
   "outputs": [
    {
     "name": "stdout",
     "output_type": "stream",
     "text": [
      "Accuracy of baseline logistic regression classifier on train set: 75.15%\n"
     ]
    }
   ],
   "source": [
    "# Make Prediction and check the accuracy\n",
    "y_train_probs=(logreg_base.predict_proba(x_train.dem_vote_share\\\n",
    "                                     .values.reshape(-1, 1)))\n",
    "\n",
    "train_accuracy = logreg_base.score(x_train.dem_vote_share\\\n",
    "                               .values.reshape(-1, 1),\n",
    "                            y_train)*100\n",
    "\n",
    "print('Accuracy of baseline logistic regression classifier on train set: ',\n",
    "      np.round(train_accuracy, 2), \"%\", sep = \"\")\n"
   ]
  },
  {
   "cell_type": "code",
   "execution_count": 10,
   "metadata": {},
   "outputs": [
    {
     "data": {
      "image/png": "[encoded data removed]",
      "text/plain": [
       "<Figure size 432x288 with 1 Axes>"
      ]
     },
     "metadata": {},
     "output_type": "display_data"
    }
   ],
   "source": [
    "## True outcomes:\n",
    "x_train_true = data_to_fit_base['dem_vote_share'].values\n",
    "y_train_true = dem_vote_share_2018\n",
    "\n",
    "# Plot predicted probabilities\n",
    "\n",
    "x = np.arange(-0.2, 1.2, 0.01)\n",
    "shade_alpha = 0.2\n",
    "\n",
    "plt.plot(x_train_true, y_train_true, \"*\",\n",
    "         color = \"gray\", markersize = 2,\n",
    "         alpha = 0.5, label = \"Former results\")\n",
    "plt.plot(x_train_true, y_train_probs[:,1],\n",
    "         'o', color = \"k\",\n",
    "         label='Predictions')\n",
    "plt.xlabel('Former Election Results (2000 - 2016)')\n",
    "plt.ylabel('Predicted probability of victory\\n(Former margin of victory)')\n",
    "plt.title('Baseline Model:\\nPredicted Probabilities of Democrat Winning, 2018')\n",
    "plt.xticks([0, 0.25, 0.5, 0.75, 1],\n",
    "          [\"R+100\", \"R+50\", \"Tie\",\"D+50\",\"D+100\"])\n",
    "plt.yticks([0, 0.25, 0.5, 0.75, 1],\n",
    "          [\"R+100\", \"R+50\", \"Tie\",\"D+50\",\"D+100\"])\n",
    "plt.xlim(-0.03, 1.03)\n",
    "plt.ylim(-0.03, 1.03)\n",
    "plt.legend(bbox_to_anchor=(1, 0.66))\n",
    "plt.show();"
   ]
  },
  {
   "cell_type": "markdown",
   "metadata": {},
   "source": [
    "## Adding to the Baseline Model"
   ]
  },
  {
   "cell_type": "code",
   "execution_count": 44,
   "metadata": {},
   "outputs": [],
   "source": [
    "def add_power_terms(df, continuous_colnames, degree):\n",
    "    if degree > 2 & degree % 1 == 0:\n",
    "        for i in range(2, degree+1):\n",
    "            for col in continuous_colnames:\n",
    "                new_colname = col+\"^\"+str(i)\n",
    "                df[new_colname] = df[col]**i\n",
    "    else:\n",
    "        if degree == 1:\n",
    "            return(df)\n",
    "        else:\n",
    "            print(\"Invalid degree term\")\n",
    "    return(df)\n",
    "\n",
    "def add_interaction_terms(df, continuous_colnames):\n",
    "    binary_colnames = df.columns.difference(continuous_colnames)\n",
    "    ## removing power terms\n",
    "    binary_colnames = [x for x in binary_colnames if \"^\" not in x]\n",
    "    \n",
    "    for continuous_colname in continuous_colnames:\n",
    "        for binary_colname in binary_colnames:\n",
    "            interaction_colname = continuous_colname + \"*\" + binary_colname\n",
    "            df[interaction_colname] = df[continuous_colname]*df[binary_colname]\n",
    "    return(df)\n"
   ]
  },
  {
   "cell_type": "code",
   "execution_count": 11,
   "metadata": {
    "scrolled": true
   },
   "outputs": [],
   "source": [
    "## Dropping outcomes from x dataframe\n",
    "x_train.drop(['dem_vote_share_2018','dem_won_2018'],\n",
    "            axis = 1, inplace = True)\n",
    "\n",
    "## Outcome vector is `y_train`"
   ]
  },
  {
   "cell_type": "code",
   "execution_count": 12,
   "metadata": {},
   "outputs": [],
   "source": [
    "## Normalizing"
   ]
  },
  {
   "cell_type": "code",
   "execution_count": 52,
   "metadata": {
    "scrolled": true
   },
   "outputs": [
    {
     "data": {
      "text/plain": [
       "Index(['year', 'dem_vote_share', 'nominate_dim1', 'nominate_dim2',\n",
       "       'nokken_poole_dim1', 'nokken_poole_dim2', 'age', 'dem_incumbent',\n",
       "       'unemployment'],\n",
       "      dtype='object')"
      ]
     },
     "execution_count": 52,
     "metadata": {},
     "output_type": "execute_result"
    }
   ],
   "source": [
    "min_max_scaler = MinMaxScaler()\n",
    "min_max_scaler.fit(x_train)\n",
    "x_train_scaled = pd.DataFrame(min_max_scaler.transform(x_train))\n",
    "x_train_scaled.columns = x_train.columns\n",
    "x_train_scaled.columns"
   ]
  },
  {
   "cell_type": "code",
   "execution_count": 53,
   "metadata": {
    "scrolled": true
   },
   "outputs": [],
   "source": [
    "## Year * dem_vote_share\n",
    "x_train_scaled['year*dem_vote_share'] = x_train_scaled['year'] *\\\n",
    "x_train_scaled['dem_vote_share']"
   ]
  },
  {
   "cell_type": "code",
   "execution_count": 54,
   "metadata": {
    "scrolled": true
   },
   "outputs": [],
   "source": [
    "## Splitting training and validation\n",
    "\n",
    "tts_out = train_test_split(x_train_scaled, y_train,\n",
    "                           test_size = 0.2,\n",
    "                           random_state = 90,\n",
    "                           stratify=x_train_scaled['year'])\n",
    "x_train_scaled, x_val_scaled, y_train, y_val = tts_out"
   ]
  },
  {
   "cell_type": "code",
   "execution_count": 42,
   "metadata": {},
   "outputs": [
    {
     "data": {
      "text/plain": [
       "[['nokken_poole_dim1', 'nokken_poole_dim2'],\n",
       " ['nominate_dim1', 'nominate_dim2']]"
      ]
     },
     "execution_count": 42,
     "metadata": {},
     "output_type": "execute_result"
    }
   ],
   "source": [
    "## Two options: One where NOMINATE scores are included;\n",
    "## Second where Nokken/Poole scores are included\n",
    "\n",
    "\n",
    "drop_cols1 = ['nokken_poole_dim1','nokken_poole_dim2']\n",
    "drop_cols2 = ['nominate_dim1', 'nominate_dim2']\n",
    "drop_cols = [drop_cols1, drop_cols2]\n",
    "\n",
    "\n",
    "drop_cols"
   ]
  },
  {
   "cell_type": "code",
   "execution_count": 63,
   "metadata": {},
   "outputs": [],
   "source": [
    "poly_degree_max = 10\n",
    "poly_degrees = range(1, poly_degree_max)\n",
    "L2_penalties = [10**i for i in range(0,7,2)]\n",
    "\n",
    "hyperparams = list(itertools.product(\\\n",
    "    *[L2_penalties,\n",
    "      drop_cols,\n",
    "     poly_degrees]))"
   ]
  },
  {
   "cell_type": "code",
   "execution_count": 64,
   "metadata": {},
   "outputs": [
    {
     "data": {
      "text/plain": [
       "(1, ['nokken_poole_dim1', 'nokken_poole_dim2'], 1)"
      ]
     },
     "execution_count": 64,
     "metadata": {},
     "output_type": "execute_result"
    }
   ],
   "source": [
    "hyperparams[0]"
   ]
  },
  {
   "cell_type": "code",
   "execution_count": 66,
   "metadata": {},
   "outputs": [],
   "source": [
    "def get_design_mats(df, dropped_columns,\n",
    "                    binary_columns, poly_degree):\n",
    "    df_reduced = df.drop(dropped_columns, axis = 1,\n",
    "                                  inplace = False)\n",
    "    \n",
    "    continuous_cols = [x for x in df_reduced.columns.values if \\\n",
    "                      x not in binary_columns]\n",
    "    \n",
    "    df_power = add_power_terms(df_reduced,\n",
    "                               continuous_cols,\n",
    "                               poly_degree)\n",
    "\n",
    "    df_to_fit = add_interaction_terms(df_power,\n",
    "                                      continuous_cols)\n",
    "    return(df_to_fit)"
   ]
  },
  {
   "cell_type": "code",
   "execution_count": 69,
   "metadata": {},
   "outputs": [],
   "source": [
    "def run_logit(x_train, x_val, y_train, y_val,\n",
    "              hyperparams, binary_cols):\n",
    "    \n",
    "    C_i = hyperparams[0]\n",
    "    dropped_cols = hyperparams[1]\n",
    "    poly_degree = hyperparams[2]\n",
    "    \n",
    "    x_train_to_fit = get_design_mats(x_train, dropped_cols,\n",
    "                                     binary_cols,\n",
    "                                   poly_degree)\n",
    "    x_val_to_fit = get_design_mats(x_val, dropped_cols,\n",
    "                                   binary_cols,\n",
    "                                   poly_degree)\n",
    "    \n",
    "    logit_obj = LogisticRegression(C=C_i)\n",
    "    logit_obj.fit(x_train_to_fit,y_train)\n",
    "    \n",
    "    train_score = logit_obj.score(x_train_to_fit, y_train)\n",
    "    val_score = logit_obj.score(x_val_to_fit, y_val)\n",
    "    \n",
    "    return(logit_obj, train_score, val_score)\n"
   ]
  },
  {
   "cell_type": "code",
   "execution_count": 70,
   "metadata": {},
   "outputs": [
    {
     "name": "stdout",
     "output_type": "stream",
     "text": [
      "0\n",
      "1\n",
      "2\n",
      "3\n",
      "4\n",
      "5\n",
      "6\n",
      "7\n",
      "8\n",
      "9\n",
      "10\n",
      "11\n",
      "12\n",
      "13\n",
      "14\n",
      "15\n",
      "16\n",
      "17\n",
      "18\n",
      "19\n",
      "20\n",
      "21\n",
      "22\n",
      "23\n",
      "24\n",
      "25\n",
      "26\n",
      "27\n",
      "28\n",
      "29\n",
      "30\n",
      "31\n",
      "32\n",
      "33\n",
      "34\n",
      "35\n",
      "36\n",
      "37\n",
      "38\n",
      "39\n",
      "40\n",
      "41\n",
      "42\n",
      "43\n",
      "44\n",
      "45\n",
      "46\n",
      "47\n",
      "48\n",
      "49\n",
      "50\n",
      "51\n",
      "52\n",
      "53\n",
      "54\n",
      "55\n",
      "56\n",
      "57\n",
      "58\n",
      "59\n",
      "60\n",
      "61\n",
      "62\n",
      "63\n",
      "64\n",
      "65\n",
      "66\n",
      "67\n",
      "68\n",
      "69\n",
      "70\n",
      "71\n"
     ]
    }
   ],
   "source": [
    "logit_objects = []\n",
    "train_scores = []\n",
    "val_scores = []\n",
    "for hp in hyperparams:\n",
    "    logit_i = run_logit(x_train_scaled, x_val_scaled,\n",
    "                        y_train, y_val,\n",
    "                        hp, binary_cols = ['dem_incumbent'])\n",
    "    logit_objects.append(logit_i[0])\n",
    "    train_scores.append(logit_i[1])\n",
    "    val_scores.append(logit_i[2])\n",
    "            "
   ]
  },
  {
   "cell_type": "code",
   "execution_count": 71,
   "metadata": {},
   "outputs": [
    {
     "data": {
      "text/plain": [
       "(array([ 4.,  2.,  3.,  9., 12., 16., 15.,  3.,  4.,  4.]),\n",
       " array([0.76438356, 0.7669863 , 0.76958904, 0.77219178, 0.77479452,\n",
       "        0.77739726, 0.78      , 0.78260274, 0.78520548, 0.78780822,\n",
       "        0.79041096]),\n",
       " <a list of 10 Patch objects>)"
      ]
     },
     "execution_count": 71,
     "metadata": {},
     "output_type": "execute_result"
    },
    {
     "data": {
      "image/png": "[encoded data removed]",
      "text/plain": [
       "<Figure size 432x288 with 1 Axes>"
      ]
     },
     "metadata": {},
     "output_type": "display_data"
    }
   ],
   "source": [
    "plt.hist(val_scores)"
   ]
  },
  {
   "cell_type": "code",
   "execution_count": 81,
   "metadata": {},
   "outputs": [
    {
     "name": "stdout",
     "output_type": "stream",
     "text": [
      "The model that performs best on cross-validation uses L2 penalization term 0.0, drops columns ['nokken_poole_dim1', 'nokken_poole_dim2'], and is of degree 3\n"
     ]
    }
   ],
   "source": [
    "best_model_hps = hyperparams[np.argmax(val_scores)]\n",
    "print(\"The model that performs best on cross-validation uses \",\n",
    "      \"L2 penalization term \",\n",
    "      10**(-1*best_model_hps[0]),\n",
    "      \", drops columns \", best_model_hps[1],\n",
    "      \", and is of degree \", best_model_hps[2], sep = \"\")"
   ]
  },
  {
   "cell_type": "code",
   "execution_count": null,
   "metadata": {},
   "outputs": [],
   "source": []
  }
 ],
 "metadata": {
  "kernelspec": {
   "display_name": "Python 3",
   "language": "python",
   "name": "python3"
  },
  "language_info": {
   "codemirror_mode": {
    "name": "ipython",
    "version": 3
   },
   "file_extension": ".py",
   "mimetype": "text/x-python",
   "name": "python",
   "nbconvert_exporter": "python",
   "pygments_lexer": "ipython3",
   "version": "3.6.5"
  }
 },
 "nbformat": 4,
 "nbformat_minor": 2
}
