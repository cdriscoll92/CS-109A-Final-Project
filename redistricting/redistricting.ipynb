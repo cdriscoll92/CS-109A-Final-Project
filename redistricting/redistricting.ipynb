{
 "cells": [
  {
   "cell_type": "markdown",
   "metadata": {},
   "source": [
    "# Redistricting Data\n",
    "\n",
    "### CS109a Final Project - Group 65"
   ]
  },
  {
   "cell_type": "code",
   "execution_count": 1,
   "metadata": {},
   "outputs": [],
   "source": [
    "import numpy as np\n",
    "import pandas as pd\n",
    "import requests\n",
    "from IPython.core.display import HTML\n",
    "from IPython.display import display"
   ]
  },
  {
   "cell_type": "code",
   "execution_count": 2,
   "metadata": {},
   "outputs": [],
   "source": [
    "redist_data_path = \"./\"\n",
    "\n",
    "states_df = pd.read_csv(redist_data_apath + \"FIPS.csv\")\n",
    "states_df.head()\n",
    "state_names = list(map(lambda x : str.lower(x) , states_df.name.values))\n",
    "state_abbrs = list(states_df.abbr.values)\n",
    "state_fips = list(states_df.fips_code.values)"
   ]
  },
  {
   "cell_type": "code",
   "execution_count": 3,
   "metadata": {},
   "outputs": [],
   "source": [
    "def abbr_for_state(state_name, state_names, state_abbrs):\n",
    "    try:\n",
    "        i = state_names.index(state_name.lower())\n",
    "    except ValueError:\n",
    "        return None\n",
    "    return state_abbrs[i]\n",
    "\n",
    "def dist_id_from_lewis(state_name, lewis_no, at_large=\"1\"):\n",
    "    result_state = abbr_for_state(state_name, state_names, state_abbrs)\n",
    "    if lewis_no == 0:\n",
    "        result_num = at_large\n",
    "    else:\n",
    "        result_num = \"{:d}\".format(int(lewis_no))\n",
    "    return \"{}_{}\".format(result_state, result_num)\n",
    "\n",
    "def map_id_from_lewis(state_names, lewis_nos, at_large=\"1\"):\n",
    "    return np.array(list(map(lambda s, n : dist_id_from_lewis(s, n, \"1\"), state_names, lewis_nos)))"
   ]
  },
  {
   "cell_type": "markdown",
   "metadata": {},
   "source": [
    "No states have been redistricted to a single at large district since the 2000 census. So we will ignore at-large districts in order to further minimize errors in producing the data."
   ]
  },
  {
   "cell_type": "code",
   "execution_count": 4,
   "metadata": {},
   "outputs": [],
   "source": [
    "district_hist_df = pd.read_csv(\n",
    "    redist_data_path +\n",
    "    \"e6311_post1948-shapeless.csv\"\n",
    ").sort_values(by=['congress', 'year', 'state_name', 'lewis_dist'])\n",
    "\n",
    "# filter for date range\n",
    "years_min = 2000\n",
    "years_max = 2017\n",
    "rows_in_years_range = (district_hist_df.year >= years_min) & (district_hist_df.year <= years_max)\n",
    "district_hist_df = district_hist_df[rows_in_years_range]"
   ]
  },
  {
   "cell_type": "code",
   "execution_count": 5,
   "metadata": {},
   "outputs": [
    {
     "data": {
      "text/plain": [
       "(3424, 13)"
      ]
     },
     "execution_count": 5,
     "metadata": {},
     "output_type": "execute_result"
    }
   ],
   "source": [
    "# ignore at-large districts\n",
    "district_hist_df = district_hist_df[district_hist_df.lewis_dist != 0]\n",
    "\n",
    "district_hist_df.shape"
   ]
  },
  {
   "cell_type": "code",
   "execution_count": 6,
   "metadata": {},
   "outputs": [],
   "source": [
    "LEWIS_MOD = 1000\n",
    "FIPS_MOD = 1000000000 \n",
    "\n",
    "def abbr_from_fips(fips):\n",
    "    try:\n",
    "        i = state_fips.index(fips)\n",
    "    except ValueError:\n",
    "        return None\n",
    "    return state_abbrs[i]\n",
    "\n",
    "def statename_from_fips(fips):\n",
    "    try:\n",
    "        i = state_fips.index(fips)\n",
    "    except ValueError:\n",
    "        return None\n",
    "    return state_names[i]\n",
    "\n",
    "def dist_id_from_geomuid(geomuid, at_large=\"1\"):\n",
    "    lewis = geomuid % LEWIS_MOD\n",
    "    if lewis == 0 and at_large != \"0\":\n",
    "        lewis = at_large\n",
    "    fips_code = int(geomuid / FIPS_MOD)\n",
    "    return \"{}_{:d}\".format(abbr_from_fips(fips_code), int(lewis))\n",
    "\n",
    "def dists_from_geomuids(geomuids, at_large=\"1\"):\n",
    "    return np.array(list(map(lambda g : dist_id_from_geomuid(g, at_large), geomuids)))\n",
    "\n",
    "def get_all_year_dist(df):\n",
    "    # obtain a table of all congressional contests\n",
    "    years = df.year.values\n",
    "    dist_ids = dists_from_geomuids(df.geom_uid)\n",
    "    data = { 'year' : years, 'dist_id' : dist_ids }\n",
    "    return pd.DataFrame(data)\n",
    "\n",
    "district_hist_df['dist_id'] = dists_from_geomuids(district_hist_df.geom_uid)\n",
    "all_possible = get_all_year_dist(district_hist_df)"
   ]
  },
  {
   "cell_type": "code",
   "execution_count": 7,
   "metadata": {},
   "outputs": [
    {
     "data": {
      "text/html": [
       "<div>\n",
       "<style scoped>\n",
       "    .dataframe tbody tr th:only-of-type {\n",
       "        vertical-align: middle;\n",
       "    }\n",
       "\n",
       "    .dataframe tbody tr th {\n",
       "        vertical-align: top;\n",
       "    }\n",
       "\n",
       "    .dataframe thead th {\n",
       "        text-align: right;\n",
       "    }\n",
       "</style>\n",
       "<table border=\"1\" class=\"dataframe\">\n",
       "  <thead>\n",
       "    <tr style=\"text-align: right;\">\n",
       "      <th></th>\n",
       "      <th>congress</th>\n",
       "      <th>start</th>\n",
       "      <th>end</th>\n",
       "      <th>congressional_election</th>\n",
       "    </tr>\n",
       "  </thead>\n",
       "  <tbody>\n",
       "    <tr>\n",
       "      <th>0</th>\n",
       "      <td>102</td>\n",
       "      <td>1991</td>\n",
       "      <td>1993</td>\n",
       "      <td>1990</td>\n",
       "    </tr>\n",
       "    <tr>\n",
       "      <th>1</th>\n",
       "      <td>103</td>\n",
       "      <td>1993</td>\n",
       "      <td>1995</td>\n",
       "      <td>1992</td>\n",
       "    </tr>\n",
       "    <tr>\n",
       "      <th>2</th>\n",
       "      <td>104</td>\n",
       "      <td>1995</td>\n",
       "      <td>1997</td>\n",
       "      <td>1994</td>\n",
       "    </tr>\n",
       "    <tr>\n",
       "      <th>3</th>\n",
       "      <td>105</td>\n",
       "      <td>1997</td>\n",
       "      <td>1999</td>\n",
       "      <td>1996</td>\n",
       "    </tr>\n",
       "    <tr>\n",
       "      <th>4</th>\n",
       "      <td>106</td>\n",
       "      <td>1999</td>\n",
       "      <td>2001</td>\n",
       "      <td>1998</td>\n",
       "    </tr>\n",
       "  </tbody>\n",
       "</table>\n",
       "</div>"
      ],
      "text/plain": [
       "   congress  start   end  congressional_election\n",
       "0       102   1991  1993                    1990\n",
       "1       103   1993  1995                    1992\n",
       "2       104   1995  1997                    1994\n",
       "3       105   1997  1999                    1996\n",
       "4       106   1999  2001                    1998"
      ]
     },
     "execution_count": 7,
     "metadata": {},
     "output_type": "execute_result"
    }
   ],
   "source": [
    "congress_info = pd.read_csv(\"congress_numbers.csv\")\n",
    "congress_info.head()"
   ]
  },
  {
   "cell_type": "code",
   "execution_count": 8,
   "metadata": {},
   "outputs": [
    {
     "data": {
      "text/plain": [
       "('congress 114: 2014',\n",
       " '2008: congress # 110',\n",
       " '2007: congress # 110',\n",
       " 'Texas 1st District, 2004[48109109001]: 109.0-109.0 congress, election year 2004')"
      ]
     },
     "execution_count": 8,
     "metadata": {},
     "output_type": "execute_result"
    }
   ],
   "source": [
    "CON_START_MOD = 1000000\n",
    "CON_END_MOD = 1000\n",
    "\n",
    "def election_year(congress_no):\n",
    "    results = congress_info[congress_info.congress == congress_no].congressional_election.values\n",
    "    return results[0]\n",
    "\n",
    "def congress_no(year):\n",
    "    return congress_info[(congress_info.start <= year) & (congress_info.end > year)].congress.values[0]\n",
    "\n",
    "def start_congress(geomuid):\n",
    "    result = geomuid % FIPS_MOD\n",
    "    result -= (result % CON_START_MOD)\n",
    "    result /= CON_START_MOD\n",
    "    return result\n",
    "\n",
    "def end_congress(geomuid):\n",
    "    result = geomuid % CON_START_MOD\n",
    "    result -= (result % CON_END_MOD)\n",
    "    result /= CON_END_MOD\n",
    "    return result\n",
    "\n",
    "def year_from_geomuid(geomuid):\n",
    "    return election_year(start_congress(geomuid))\n",
    "\n",
    "texas_1_2004_ = 48109109001\n",
    "\n",
    "(\"congress {}: {}\".format(114, election_year(114)),\n",
    " \"{}: congress # {}\".format(2008, congress_no(2008)),\n",
    " \"{}: congress # {}\".format(2007, congress_no(2007)),\n",
    " \"{}[{:011d}]: {}-{} congress, election year {}\".format(\"Texas 1st District, 2004\",\n",
    "                                                        texas_1_2004_,\n",
    "                                                        start_congress(texas_1_2004_),\n",
    "                                                        end_congress(texas_1_2004_),\n",
    "                                                        year_from_geomuid(texas_1_2004_)\n",
    "                                                       )\n",
    ")"
   ]
  },
  {
   "cell_type": "code",
   "execution_count": 9,
   "metadata": {},
   "outputs": [
    {
     "name": "stdout",
     "output_type": "stream",
     "text": [
      "(998, 3)\n"
     ]
    }
   ],
   "source": [
    "def get_redistricting(df, geom_uid_col, ignore_years=[]):  \n",
    "    unique_districts = df[geom_uid_col].drop_duplicates().sort_values().values\n",
    "    dist_id = dists_from_geomuids(unique_districts)\n",
    "    get_years = np.vectorize(year_from_geomuid)\n",
    "    years = get_years(unique_districts)\n",
    "    redistricted = np.full(dist_id.shape[0], True, dtype=bool)\n",
    "    data = {\n",
    "            'year' : years,\n",
    "            'dist_id' : dist_id,\n",
    "            'redistricted' : redistricted\n",
    "           }\n",
    "    redist_df = pd.DataFrame(data)\n",
    "    if len(ignore_years) > 0:\n",
    "        redist_df = redist_df.loc[~redist_df.year.isin(ignore_years)]\n",
    "    return redist_df\n",
    "\n",
    "redist_ = get_redistricting(district_hist_df, 'geom_uid', ignore_years=list(range(1990,1999,2)))\n",
    "print(redist_.shape)"
   ]
  },
  {
   "cell_type": "code",
   "execution_count": 10,
   "metadata": {},
   "outputs": [
    {
     "data": {
      "text/html": [
       "<div>\n",
       "<style scoped>\n",
       "    .dataframe tbody tr th:only-of-type {\n",
       "        vertical-align: middle;\n",
       "    }\n",
       "\n",
       "    .dataframe tbody tr th {\n",
       "        vertical-align: top;\n",
       "    }\n",
       "\n",
       "    .dataframe thead th {\n",
       "        text-align: right;\n",
       "    }\n",
       "</style>\n",
       "<table border=\"1\" class=\"dataframe\">\n",
       "  <thead>\n",
       "    <tr style=\"text-align: right;\">\n",
       "      <th></th>\n",
       "      <th>year</th>\n",
       "      <th>dist_id</th>\n",
       "      <th>redistricted</th>\n",
       "    </tr>\n",
       "  </thead>\n",
       "  <tbody>\n",
       "    <tr>\n",
       "      <th>1117</th>\n",
       "      <td>2000</td>\n",
       "      <td>TX_1</td>\n",
       "      <td>True</td>\n",
       "    </tr>\n",
       "    <tr>\n",
       "      <th>1147</th>\n",
       "      <td>2002</td>\n",
       "      <td>TX_1</td>\n",
       "      <td>True</td>\n",
       "    </tr>\n",
       "    <tr>\n",
       "      <th>1179</th>\n",
       "      <td>2004</td>\n",
       "      <td>TX_1</td>\n",
       "      <td>True</td>\n",
       "    </tr>\n",
       "    <tr>\n",
       "      <th>1211</th>\n",
       "      <td>2006</td>\n",
       "      <td>TX_1</td>\n",
       "      <td>True</td>\n",
       "    </tr>\n",
       "    <tr>\n",
       "      <th>1243</th>\n",
       "      <td>2012</td>\n",
       "      <td>TX_1</td>\n",
       "      <td>True</td>\n",
       "    </tr>\n",
       "  </tbody>\n",
       "</table>\n",
       "</div>"
      ],
      "text/plain": [
       "      year dist_id  redistricted\n",
       "1117  2000    TX_1          True\n",
       "1147  2002    TX_1          True\n",
       "1179  2004    TX_1          True\n",
       "1211  2006    TX_1          True\n",
       "1243  2012    TX_1          True"
      ]
     },
     "metadata": {},
     "output_type": "display_data"
    },
    {
     "data": {
      "text/html": [
       "<div>\n",
       "<style scoped>\n",
       "    .dataframe tbody tr th:only-of-type {\n",
       "        vertical-align: middle;\n",
       "    }\n",
       "\n",
       "    .dataframe tbody tr th {\n",
       "        vertical-align: top;\n",
       "    }\n",
       "\n",
       "    .dataframe thead th {\n",
       "        text-align: right;\n",
       "    }\n",
       "</style>\n",
       "<table border=\"1\" class=\"dataframe\">\n",
       "  <thead>\n",
       "    <tr style=\"text-align: right;\">\n",
       "      <th></th>\n",
       "      <th>year</th>\n",
       "      <th>dist_id</th>\n",
       "      <th>redistricted</th>\n",
       "    </tr>\n",
       "  </thead>\n",
       "  <tbody>\n",
       "    <tr>\n",
       "      <th>825</th>\n",
       "      <td>2002</td>\n",
       "      <td>NY_10</td>\n",
       "      <td>True</td>\n",
       "    </tr>\n",
       "    <tr>\n",
       "      <th>854</th>\n",
       "      <td>2012</td>\n",
       "      <td>NY_10</td>\n",
       "      <td>True</td>\n",
       "    </tr>\n",
       "  </tbody>\n",
       "</table>\n",
       "</div>"
      ],
      "text/plain": [
       "     year dist_id  redistricted\n",
       "825  2002   NY_10          True\n",
       "854  2012   NY_10          True"
      ]
     },
     "metadata": {},
     "output_type": "display_data"
    },
    {
     "data": {
      "text/html": [
       "<div>\n",
       "<style scoped>\n",
       "    .dataframe tbody tr th:only-of-type {\n",
       "        vertical-align: middle;\n",
       "    }\n",
       "\n",
       "    .dataframe tbody tr th {\n",
       "        vertical-align: top;\n",
       "    }\n",
       "\n",
       "    .dataframe thead th {\n",
       "        text-align: right;\n",
       "    }\n",
       "</style>\n",
       "<table border=\"1\" class=\"dataframe\">\n",
       "  <thead>\n",
       "    <tr style=\"text-align: right;\">\n",
       "      <th></th>\n",
       "      <th>year</th>\n",
       "      <th>dist_id</th>\n",
       "      <th>redistricted</th>\n",
       "    </tr>\n",
       "  </thead>\n",
       "  <tbody>\n",
       "    <tr>\n",
       "      <th>762</th>\n",
       "      <td>2002</td>\n",
       "      <td>NJ_12</td>\n",
       "      <td>True</td>\n",
       "    </tr>\n",
       "    <tr>\n",
       "      <th>775</th>\n",
       "      <td>2012</td>\n",
       "      <td>NJ_12</td>\n",
       "      <td>True</td>\n",
       "    </tr>\n",
       "  </tbody>\n",
       "</table>\n",
       "</div>"
      ],
      "text/plain": [
       "     year dist_id  redistricted\n",
       "762  2002   NJ_12          True\n",
       "775  2012   NJ_12          True"
      ]
     },
     "metadata": {},
     "output_type": "display_data"
    }
   ],
   "source": [
    "display(redist_[redist_.dist_id == \"TX_1\"])\n",
    "display(redist_[redist_.dist_id == \"NY_10\"])\n",
    "display(redist_[redist_.dist_id == \"NJ_12\"])"
   ]
  },
  {
   "cell_type": "code",
   "execution_count": 11,
   "metadata": {},
   "outputs": [
    {
     "data": {
      "text/html": [
       "<div>\n",
       "<style scoped>\n",
       "    .dataframe tbody tr th:only-of-type {\n",
       "        vertical-align: middle;\n",
       "    }\n",
       "\n",
       "    .dataframe tbody tr th {\n",
       "        vertical-align: top;\n",
       "    }\n",
       "\n",
       "    .dataframe thead th {\n",
       "        text-align: right;\n",
       "    }\n",
       "</style>\n",
       "<table border=\"1\" class=\"dataframe\">\n",
       "  <thead>\n",
       "    <tr style=\"text-align: right;\">\n",
       "      <th></th>\n",
       "      <th>state</th>\n",
       "    </tr>\n",
       "    <tr>\n",
       "      <th>year</th>\n",
       "      <th></th>\n",
       "    </tr>\n",
       "  </thead>\n",
       "  <tbody>\n",
       "    <tr>\n",
       "      <th>2000</th>\n",
       "      <td>2</td>\n",
       "    </tr>\n",
       "    <tr>\n",
       "      <th>2002</th>\n",
       "      <td>42</td>\n",
       "    </tr>\n",
       "    <tr>\n",
       "      <th>2004</th>\n",
       "      <td>4</td>\n",
       "    </tr>\n",
       "    <tr>\n",
       "      <th>2006</th>\n",
       "      <td>2</td>\n",
       "    </tr>\n",
       "    <tr>\n",
       "      <th>2012</th>\n",
       "      <td>43</td>\n",
       "    </tr>\n",
       "  </tbody>\n",
       "</table>\n",
       "</div>"
      ],
      "text/plain": [
       "      state\n",
       "year       \n",
       "2000      2\n",
       "2002     42\n",
       "2004      4\n",
       "2006      2\n",
       "2012     43"
      ]
     },
     "metadata": {},
     "output_type": "display_data"
    },
    {
     "data": {
      "text/html": [
       "<div>\n",
       "<style scoped>\n",
       "    .dataframe tbody tr th:only-of-type {\n",
       "        vertical-align: middle;\n",
       "    }\n",
       "\n",
       "    .dataframe tbody tr th {\n",
       "        vertical-align: top;\n",
       "    }\n",
       "\n",
       "    .dataframe thead th {\n",
       "        text-align: right;\n",
       "    }\n",
       "</style>\n",
       "<table border=\"1\" class=\"dataframe\">\n",
       "  <thead>\n",
       "    <tr style=\"text-align: right;\">\n",
       "      <th></th>\n",
       "      <th>year</th>\n",
       "      <th>state</th>\n",
       "    </tr>\n",
       "  </thead>\n",
       "  <tbody>\n",
       "    <tr>\n",
       "      <th>589</th>\n",
       "      <td>2000</td>\n",
       "      <td>NC</td>\n",
       "    </tr>\n",
       "    <tr>\n",
       "      <th>766</th>\n",
       "      <td>2000</td>\n",
       "      <td>TX</td>\n",
       "    </tr>\n",
       "  </tbody>\n",
       "</table>\n",
       "</div>"
      ],
      "text/plain": [
       "     year state\n",
       "589  2000    NC\n",
       "766  2000    TX"
      ]
     },
     "metadata": {},
     "output_type": "display_data"
    },
    {
     "data": {
      "text/html": [
       "<div>\n",
       "<style scoped>\n",
       "    .dataframe tbody tr th:only-of-type {\n",
       "        vertical-align: middle;\n",
       "    }\n",
       "\n",
       "    .dataframe tbody tr th {\n",
       "        vertical-align: top;\n",
       "    }\n",
       "\n",
       "    .dataframe thead th {\n",
       "        text-align: right;\n",
       "    }\n",
       "</style>\n",
       "<table border=\"1\" class=\"dataframe\">\n",
       "  <thead>\n",
       "    <tr style=\"text-align: right;\">\n",
       "      <th></th>\n",
       "      <th>year</th>\n",
       "      <th>dist_id</th>\n",
       "      <th>redistricted</th>\n",
       "    </tr>\n",
       "  </thead>\n",
       "  <tbody>\n",
       "    <tr>\n",
       "      <th>7</th>\n",
       "      <td>2002</td>\n",
       "      <td>AL_1</td>\n",
       "      <td>True</td>\n",
       "    </tr>\n",
       "    <tr>\n",
       "      <th>8</th>\n",
       "      <td>2002</td>\n",
       "      <td>AL_2</td>\n",
       "      <td>True</td>\n",
       "    </tr>\n",
       "    <tr>\n",
       "      <th>9</th>\n",
       "      <td>2002</td>\n",
       "      <td>AL_3</td>\n",
       "      <td>True</td>\n",
       "    </tr>\n",
       "    <tr>\n",
       "      <th>10</th>\n",
       "      <td>2002</td>\n",
       "      <td>AL_4</td>\n",
       "      <td>True</td>\n",
       "    </tr>\n",
       "    <tr>\n",
       "      <th>11</th>\n",
       "      <td>2002</td>\n",
       "      <td>AL_5</td>\n",
       "      <td>True</td>\n",
       "    </tr>\n",
       "  </tbody>\n",
       "</table>\n",
       "</div>"
      ],
      "text/plain": [
       "    year dist_id  redistricted\n",
       "7   2002    AL_1          True\n",
       "8   2002    AL_2          True\n",
       "9   2002    AL_3          True\n",
       "10  2002    AL_4          True\n",
       "11  2002    AL_5          True"
      ]
     },
     "metadata": {},
     "output_type": "display_data"
    }
   ],
   "source": [
    "# validate by getting redistricting counts by year\n",
    "def states_redistricting(df):\n",
    "    get_state = lambda dist : dist[0:2]\n",
    "    get_states_from_id = np.vectorize(get_state)\n",
    "    states = get_states_from_id(df.dist_id.values)\n",
    "    years = df.year.values\n",
    "    data = {'year' : years, 'state' : states}\n",
    "    return pd.DataFrame(data).drop_duplicates()\n",
    "\n",
    "df_states = states_redistricting(redist_)\n",
    "display(df_states.groupby(['year']).count())\n",
    "display(df_states.loc[df_states.year.isin([1998, 2000])].sort_values(['year', 'state']))\n",
    "\n",
    "display(redist_.head())"
   ]
  },
  {
   "cell_type": "code",
   "execution_count": 12,
   "metadata": {},
   "outputs": [],
   "source": [
    "def dists_for_state(state_abbr,dist_count):\n",
    "    return [\"{}_{}\".format(state_abbr, c) for c in range(1, dist_count + 1)]"
   ]
  },
  {
   "cell_type": "code",
   "execution_count": 13,
   "metadata": {},
   "outputs": [
    {
     "name": "stdout",
     "output_type": "stream",
     "text": [
      "(968, 3)\n"
     ]
    },
    {
     "data": {
      "text/html": [
       "<div>\n",
       "<style scoped>\n",
       "    .dataframe tbody tr th:only-of-type {\n",
       "        vertical-align: middle;\n",
       "    }\n",
       "\n",
       "    .dataframe tbody tr th {\n",
       "        vertical-align: top;\n",
       "    }\n",
       "\n",
       "    .dataframe thead th {\n",
       "        text-align: right;\n",
       "    }\n",
       "</style>\n",
       "<table border=\"1\" class=\"dataframe\">\n",
       "  <thead>\n",
       "    <tr style=\"text-align: right;\">\n",
       "      <th></th>\n",
       "      <th>year</th>\n",
       "      <th>state</th>\n",
       "    </tr>\n",
       "  </thead>\n",
       "  <tbody>\n",
       "    <tr>\n",
       "      <th>589</th>\n",
       "      <td>2000</td>\n",
       "      <td>NC</td>\n",
       "    </tr>\n",
       "    <tr>\n",
       "      <th>766</th>\n",
       "      <td>2000</td>\n",
       "      <td>TX</td>\n",
       "    </tr>\n",
       "  </tbody>\n",
       "</table>\n",
       "</div>"
      ],
      "text/plain": [
       "     year state\n",
       "589  2000    NC\n",
       "766  2000    TX"
      ]
     },
     "metadata": {},
     "output_type": "display_data"
    },
    {
     "data": {
      "text/html": [
       "<div>\n",
       "<style scoped>\n",
       "    .dataframe tbody tr th:only-of-type {\n",
       "        vertical-align: middle;\n",
       "    }\n",
       "\n",
       "    .dataframe tbody tr th {\n",
       "        vertical-align: top;\n",
       "    }\n",
       "\n",
       "    .dataframe thead th {\n",
       "        text-align: right;\n",
       "    }\n",
       "</style>\n",
       "<table border=\"1\" class=\"dataframe\">\n",
       "  <thead>\n",
       "    <tr style=\"text-align: right;\">\n",
       "      <th></th>\n",
       "      <th>state</th>\n",
       "    </tr>\n",
       "    <tr>\n",
       "      <th>year</th>\n",
       "      <th></th>\n",
       "    </tr>\n",
       "  </thead>\n",
       "  <tbody>\n",
       "    <tr>\n",
       "      <th>2000</th>\n",
       "      <td>1</td>\n",
       "    </tr>\n",
       "    <tr>\n",
       "      <th>2002</th>\n",
       "      <td>42</td>\n",
       "    </tr>\n",
       "    <tr>\n",
       "      <th>2004</th>\n",
       "      <td>4</td>\n",
       "    </tr>\n",
       "    <tr>\n",
       "      <th>2006</th>\n",
       "      <td>2</td>\n",
       "    </tr>\n",
       "    <tr>\n",
       "      <th>2012</th>\n",
       "      <td>43</td>\n",
       "    </tr>\n",
       "  </tbody>\n",
       "</table>\n",
       "</div>"
      ],
      "text/plain": [
       "      state\n",
       "year       \n",
       "2000      1\n",
       "2002     42\n",
       "2004      4\n",
       "2006      2\n",
       "2012     43"
      ]
     },
     "metadata": {},
     "output_type": "display_data"
    }
   ],
   "source": [
    "texas_dists = dists_for_state(\"TX\", 36)\n",
    "redist_ = redist_.loc[~((redist_['dist_id'].isin(texas_dists)) & (redist_.year == 2000))]\n",
    "print(redist_.shape)\n",
    "display(df_states.loc[df_states.year.isin([2000])].sort_values(['year', 'state']))\n",
    "\n",
    "df_states = states_redistricting(redist_)\n",
    "display(df_states.groupby(['year']).count())"
   ]
  },
  {
   "cell_type": "code",
   "execution_count": 14,
   "metadata": {},
   "outputs": [],
   "source": [
    "def latest_district_count(df, state_abbr):\n",
    "    states = get_states_from_id(df.dist_id.values)\n",
    "    state_i = states == state_abbr\n",
    "    state_rows = df[state_i]\n",
    "    latest_year = state_rows[state_rows.year == np.max(state_rows.year.values)]\n",
    "    return latest_year.shape[0]\n",
    "\n",
    "def generate_redist_rows(state, year, dist_count, is_redist=True):\n",
    "    dists = []\n",
    "    for i in range(1, dist_count + 1):\n",
    "        dists.append(\"{}_{}\".format(state, i))\n",
    "    years = np.full(dist_count, year, dtype=int)\n",
    "    redist = np.full(dist_count, is_redist, dtype=bool)\n",
    "    data = { 'year' : years, 'dist_id' : dists, 'redistricted' : redist }\n",
    "    return pd.DataFrame(data)\n",
    "\n",
    "def generate_redist_multi(state_tuples):\n",
    "    df = None\n",
    "    for st in state_tuples:\n",
    "        result = generate_redist_rows(st[0], st[1], st[2])\n",
    "        if df is None:\n",
    "            df = result\n",
    "        else:\n",
    "            df = df.append(result)\n",
    "    return df\n",
    "\n",
    "additional_redistricting = [(\"NC\", 2016, 13),\n",
    "                            (\"PA\", 2018, 18),\n",
    "                            (\"VA\", 2016, 11)]\n",
    "redist_df = redist_.append(generate_redist_multi(additional_redistricting), sort=False)\n",
    "redist_df.sort_values(['year', 'dist_id']).to_csv(redist_data_path + \"redist_2000-2018.csv\", index=False)"
   ]
  },
  {
   "cell_type": "markdown",
   "metadata": {},
   "source": [
    "## Merging the redistricting variable with the rest of the data\n",
    "\n",
    "Use the following function to merge (join) the variable data with any data frame that has `year` and `dist_id` fields. This function doesn't depend on anything except for `pandas`."
   ]
  },
  {
   "cell_type": "code",
   "execution_count": 15,
   "metadata": {},
   "outputs": [
    {
     "data": {
      "text/html": [
       "<div>\n",
       "<style scoped>\n",
       "    .dataframe tbody tr th:only-of-type {\n",
       "        vertical-align: middle;\n",
       "    }\n",
       "\n",
       "    .dataframe tbody tr th {\n",
       "        vertical-align: top;\n",
       "    }\n",
       "\n",
       "    .dataframe thead th {\n",
       "        text-align: right;\n",
       "    }\n",
       "</style>\n",
       "<table border=\"1\" class=\"dataframe\">\n",
       "  <thead>\n",
       "    <tr style=\"text-align: right;\">\n",
       "      <th></th>\n",
       "      <th>year</th>\n",
       "      <th>dist_id</th>\n",
       "      <th>redistricted</th>\n",
       "    </tr>\n",
       "  </thead>\n",
       "  <tbody>\n",
       "    <tr>\n",
       "      <th>3419</th>\n",
       "      <td>2014.0</td>\n",
       "      <td>WI_4</td>\n",
       "      <td>False</td>\n",
       "    </tr>\n",
       "    <tr>\n",
       "      <th>3420</th>\n",
       "      <td>2014.0</td>\n",
       "      <td>WI_5</td>\n",
       "      <td>False</td>\n",
       "    </tr>\n",
       "    <tr>\n",
       "      <th>3421</th>\n",
       "      <td>2014.0</td>\n",
       "      <td>WI_6</td>\n",
       "      <td>False</td>\n",
       "    </tr>\n",
       "    <tr>\n",
       "      <th>3422</th>\n",
       "      <td>2014.0</td>\n",
       "      <td>WI_7</td>\n",
       "      <td>False</td>\n",
       "    </tr>\n",
       "    <tr>\n",
       "      <th>3423</th>\n",
       "      <td>2014.0</td>\n",
       "      <td>WI_8</td>\n",
       "      <td>False</td>\n",
       "    </tr>\n",
       "  </tbody>\n",
       "</table>\n",
       "</div>"
      ],
      "text/plain": [
       "        year dist_id  redistricted\n",
       "3419  2014.0    WI_4         False\n",
       "3420  2014.0    WI_5         False\n",
       "3421  2014.0    WI_6         False\n",
       "3422  2014.0    WI_7         False\n",
       "3423  2014.0    WI_8         False"
      ]
     },
     "execution_count": 15,
     "metadata": {},
     "output_type": "execute_result"
    }
   ],
   "source": [
    "def merge_redist(df, redist_df, year_col='year', dist_id_col='dist_id'):\n",
    "    merged_df = df.merge(redist_df, on=(year_col, dist_id_col), how='left')\n",
    "    merged_df.redistricted.fillna(False, inplace=True)\n",
    "    return merged_df\n",
    "\n",
    "# this example only goes to 2014\n",
    "example_ = merge_redist(all_possible, redist_df)\n",
    "example_.tail()"
   ]
  },
  {
   "cell_type": "code",
   "execution_count": 16,
   "metadata": {},
   "outputs": [
    {
     "data": {
      "text/plain": [
       "datetime.datetime(2018, 12, 10, 1, 19, 47, 153410)"
      ]
     },
     "execution_count": 16,
     "metadata": {},
     "output_type": "execute_result"
    }
   ],
   "source": [
    "import datetime\n",
    "# timestamp of last run in UTC\n",
    "datetime.datetime.now()"
   ]
  },
  {
   "cell_type": "code",
   "execution_count": null,
   "metadata": {},
   "outputs": [],
   "source": []
  }
 ],
 "metadata": {
  "kernelspec": {
   "display_name": "Python 3",
   "language": "python",
   "name": "python3"
  },
  "language_info": {
   "codemirror_mode": {
    "name": "ipython",
    "version": 3
   },
   "file_extension": ".py",
   "mimetype": "text/x-python",
   "name": "python",
   "nbconvert_exporter": "python",
   "pygments_lexer": "ipython3",
   "version": "3.6.5"
  }
 },
 "nbformat": 4,
 "nbformat_minor": 2
}
